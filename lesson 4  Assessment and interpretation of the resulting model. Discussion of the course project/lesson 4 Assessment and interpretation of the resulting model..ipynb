{
 "cells": [
  {
   "cell_type": "markdown",
   "metadata": {},
   "source": [
    "1. Расскажите, как работает регуляризация в решающих деревьях, какие параметры мы штрафуем в данных алгоритмах?\n",
    "\n",
    "\n",
    "- Региляризация __штрафует__ модель за шум в признаках, __прибавляя к весам на каждой итерации__ переменныю __зависящую от значения весов__ с предыдущей итерации умноженную на коэффициент $\\lambda$. L1 более мягкая - прибавляет вектор весов, L2 более жесткая - прибавляет квадрат весов\n",
    "\n",
    "\n",
    "2. По какому принципу рассчитывается \"важность признака (feature_importance)\" в ансамблях деревьев?\n",
    "\n",
    "\n",
    "- Показывает на сколько меняется прогниз при __изменении значений__ признака. Чем больше __значение важности__, тем больше будет изменение __значения прогноза__."
   ]
  },
  {
   "cell_type": "markdown",
   "metadata": {},
   "source": [
    "Источники:\n",
    "- [feature importance](https://catboost.ai/docs/concepts/fstr.html#fstr)"
   ]
  }
 ],
 "metadata": {
  "kernelspec": {
   "display_name": "Python 3",
   "language": "python",
   "name": "python3"
  },
  "language_info": {
   "codemirror_mode": {
    "name": "ipython",
    "version": 3
   },
   "file_extension": ".py",
   "mimetype": "text/x-python",
   "name": "python",
   "nbconvert_exporter": "python",
   "pygments_lexer": "ipython3",
   "version": "3.6.11"
  }
 },
 "nbformat": 4,
 "nbformat_minor": 2
}
