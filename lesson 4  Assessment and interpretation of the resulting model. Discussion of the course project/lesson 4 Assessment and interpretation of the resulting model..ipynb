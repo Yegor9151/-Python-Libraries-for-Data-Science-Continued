{
 "cells": [
  {
   "cell_type": "markdown",
   "metadata": {},
   "source": [
    "1. Расскажите, как работает регуляризация в решающих деревьях, какие параметры мы штрафуем в данных алгоритмах?\n",
    "\n",
    "\n",
    "- Региляризация __штрафует__ модель за шум в признаках, __прибавляя к весам на каждой итерации__ переменныю __зависящую от значения весов__ с предыдущей итерации умноженную на коэффициент $\\lambda$. L1 более мягкая - прибавляет вектор весов, L2 более жесткая - прибавляет квадрат весов"
   ]
  },
  {
   "cell_type": "markdown",
   "metadata": {},
   "source": [
    "2. По какому принципу рассчитывается \"важность признака (feature_importance)\" в ансамблях деревьев?"
   ]
  }
 ],
 "metadata": {
  "kernelspec": {
   "display_name": "Python 3",
   "language": "python",
   "name": "python3"
  },
  "language_info": {
   "codemirror_mode": {
    "name": "ipython",
    "version": 3
   },
   "file_extension": ".py",
   "mimetype": "text/x-python",
   "name": "python",
   "nbconvert_exporter": "python",
   "pygments_lexer": "ipython3",
   "version": "3.7.4"
  }
 },
 "nbformat": 4,
 "nbformat_minor": 2
}
