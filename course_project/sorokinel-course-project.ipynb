{
 "cells": [
  {
   "cell_type": "markdown",
   "metadata": {},
   "source": [
    "# Тема курсовой: обучение модели классификации для прогнозирования не выполнения долговых обязательств по текущему кредину.\n",
    "\n",
    "## 1. Подготовка ноутбука"
   ]
  },
  {
   "cell_type": "code",
   "execution_count": 1,
   "metadata": {},
   "outputs": [],
   "source": [
    "# Подключаем библиотеки\n",
    "\n",
    "import pandas as pd\n",
    "import numpy as np\n",
    "\n",
    "from scipy.stats import shapiro, ttest_rel, chi2_contingency\n",
    "\n",
    "from sklearn.metrics import f1_score, r2_score, mean_squared_error as mse\n",
    "from sklearn.preprocessing import MinMaxScaler, StandardScaler\n",
    "from sklearn.model_selection import train_test_split\n",
    "\n",
    "from lightgbm import LGBMRegressor, LGBMClassifier\n",
    "from xgboost import XGBRegressor, XGBClassifier\n",
    "from catboost import CatBoostRegressor, CatBoostClassifier\n",
    "\n",
    "import seaborn as sns\n",
    "import matplotlib.pyplot as plt\n",
    "%matplotlib inline\n",
    "%config Inlinebackend.figure_format = 'svg'\n",
    "\n",
    "import warnings\n",
    "warnings.filterwarnings('ignore')"
   ]
  },
  {
   "cell_type": "markdown",
   "metadata": {},
   "source": [
    "##### Функции для подготовки данных"
   ]
  },
  {
   "cell_type": "code",
   "execution_count": 2,
   "metadata": {},
   "outputs": [],
   "source": [
    "def sampling(df: pd.DataFrame, target: str, columns: list, final=False) -> tuple:\n",
    "    \"\"\"Функция для разбиения данных\"\"\"\n",
    "    \n",
    "    # сплитим на X и y\n",
    "    df = df[columns]\n",
    "    \n",
    "    Xy_df = df[df[target].notna()]\n",
    "    \n",
    "    X = Xy_df.drop(target, axis=1)\n",
    "    y = Xy_df[target]\n",
    "\n",
    "    # сплитим на train и test\n",
    "    X_train, X_test, y_train, y_test = train_test_split(X, y, test_size=0.2, random_state=42)\n",
    "    \n",
    "    if final:\n",
    "        final = df[df[target].isna()]\n",
    "        final = final.drop(target, axis=1)\n",
    "        return X_train, X_test, y_train, y_test, final\n",
    "    elif not final:\n",
    "        return X_train, X_test, y_train, y_test"
   ]
  },
  {
   "cell_type": "code",
   "execution_count": 3,
   "metadata": {},
   "outputs": [],
   "source": [
    "def pred_feature(df, target, columns, max_depth, learning_rate, n_estimators, random_state=42):\n",
    "    \"\"\"Функция для обучения LGBM\"\"\"\n",
    "    \n",
    "    # сплитим на train и test\n",
    "    X_train, X_test, y_train, y_test, final = sampling(df=df, target=target, columns=columns, final=True)\n",
    "        \n",
    "    # обучаем модель\n",
    "    xgb_model = LGBMRegressor(max_depth=max_depth, learning_rate=learning_rate, \n",
    "                              n_estimators=n_estimators, random_state=random_state)\n",
    "    xgb_model.fit(X_train, y_train)\n",
    "\n",
    "    # предсказываем зачения\n",
    "    y_train_pred = xgb_model.predict(X_train)\n",
    "    y_test_pred = xgb_model.predict(X_test)\n",
    "\n",
    "    # смотрим результат\n",
    "    print(target)\n",
    "    evaluation_result(y_train=y_train, y_train_pred=y_train_pred, y_test=y_test, y_test_pred=y_test_pred)\n",
    "        \n",
    "    df_pred = pd.DataFrame()\n",
    "    df_pred[target] = xgb_model.predict(final)\n",
    "    df_pred = df_pred.set_index(final.index)\n",
    "        \n",
    "    return df_pred, xgb_model"
   ]
  },
  {
   "cell_type": "code",
   "execution_count": 4,
   "metadata": {},
   "outputs": [],
   "source": [
    "def balancing(df, target_name):\n",
    "    \"\"\"функция для балансировки значений\"\"\"\n",
    "\n",
    "    target_counts = df[target_name].value_counts()\n",
    "\n",
    "    major_class_name = target_counts.argmax()\n",
    "    minor_class_name = target_counts.argmin()\n",
    "\n",
    "    disbalance_coeff = int(target_counts[major_class_name] / target_counts[minor_class_name]) - 1\n",
    "\n",
    "    for i in range(disbalance_coeff):\n",
    "        sample = df[df[target_name] == minor_class_name].sample(target_counts[minor_class_name])\n",
    "        df = df.append(sample, ignore_index=True)\n",
    "\n",
    "    return df.sample(frac=1)"
   ]
  },
  {
   "cell_type": "code",
   "execution_count": 5,
   "metadata": {},
   "outputs": [],
   "source": [
    "# Формируем пути до данных\n",
    "\n",
    "# PATH_TO_TRAIN = '../input/course-project/course_project_train.csv'\n",
    "# PATH_TO_TEST = '../input/course-project/course_project_test.csv'\n",
    "\n",
    "PATH_TO_TRAIN = 'course_project_train.csv'\n",
    "PATH_TO_TEST = 'course_project_test.csv'"
   ]
  },
  {
   "cell_type": "markdown",
   "metadata": {},
   "source": [
    "## 2. Анализ датасетов\n",
    "\n",
    "##### Функции для анализа"
   ]
  },
  {
   "cell_type": "code",
   "execution_count": 6,
   "metadata": {},
   "outputs": [],
   "source": [
    "def missing_data(df: pd.DataFrame) -> pd.Series:\n",
    "    \"\"\"get dataframe and calculate emissions in its data in percentage\"\"\"\n",
    "    \n",
    "    featur_counts = df.count()\n",
    "    object_counts = df.shape[0]\n",
    "    \n",
    "    calc_procent = (1 - featur_counts/object_counts) * 100\n",
    "    \n",
    "    feature_procent = round(calc_procent, 2)\n",
    "            \n",
    "    result = {i: f'{v}%' for i, v in feature_procent.items() if v != 0}\n",
    "    \n",
    "    return pd.Series(result)"
   ]
  },
  {
   "cell_type": "code",
   "execution_count": 7,
   "metadata": {},
   "outputs": [],
   "source": [
    "def correlation(\n",
    "    df: pd.DataFrame, \n",
    "    target: str\n",
    ") -> (print, plt.plot):\n",
    "    \"\"\"calculates correlation whith target and plots graph\"\"\"\n",
    "    \n",
    "    corr_table = df.corr()\n",
    "    \n",
    "    result = corr_table.drop([target], axis=0) if target != None else corr_table\n",
    "    sort_values = result.sort_values(target, ascending=False)*100 if target != None else result\n",
    "    \n",
    "    coef = round(sort_values[target], 2)\n",
    "    \n",
    "    print(coef)\n",
    "    \n",
    "    plt.figure(figsize=(12,4))\n",
    "\n",
    "    plt.barh(coef.index, coef.values)\n",
    "\n",
    "    plt.title(f'Correlation with {target}', fontsize=16)\n",
    "    plt.xlabel('percent', fontsize=14)\n",
    "    \n",
    "    plt.grid()"
   ]
  },
  {
   "cell_type": "code",
   "execution_count": 8,
   "metadata": {},
   "outputs": [],
   "source": [
    "def emission(\n",
    "    series: pd.Series, \n",
    "    val: int = None\n",
    ") -> print:\n",
    "    \"\"\"\n",
    "    get series and shop emissions in it, \n",
    "    if val then can calculate emissions and is percent\n",
    "    \"\"\"\n",
    "    \n",
    "    print(\n",
    "        f'min = {series.min()}\\n'\n",
    "        f'max = {series.max()}\\n'\n",
    "        f'mean = {series.mean()}'\n",
    "    )\n",
    "    if val != None:\n",
    "        em = series > val\n",
    "\n",
    "        print(\n",
    "            f'Число выбрасов = {em.sum()}\\n'\n",
    "            f'Процент выбрасов = {round(em.sum() / series.shape[0] * 100, 2)}%'\n",
    "        )\n",
    "        \n",
    "    plt.scatter(series.index, series.values)\n",
    "    plt.plot()"
   ]
  },
  {
   "cell_type": "code",
   "execution_count": 9,
   "metadata": {},
   "outputs": [],
   "source": [
    "def chi2_test(df, feature, values, target='Credit Default'):\n",
    "    \"\"\"функция для проверги гиппотез на синхронность\"\"\"\n",
    "    \n",
    "    alpha=0.5\n",
    "    \n",
    "    df = df[df[feature].notna()][:1000]\n",
    "\n",
    "    df1 = df[df[feature] == values[0]]\n",
    "    test1 = df1[target].value_counts()\n",
    "\n",
    "    df2 = df[df[feature] == values[1]]\n",
    "    test2 = df2[target].value_counts()\n",
    "    \n",
    "    p = chi2_contingency([test1, test2])[1]\n",
    "    print(f'p = {p}')\n",
    "    \n",
    "    if p <= alpha:\n",
    "        print(f'{values[0]} != {values[1]}, при alpha = {alpha}') \n",
    "    elif p > alpha:\n",
    "        print(f'{values[0]} == {values[1]}, при alpha = {alpha}')"
   ]
  },
  {
   "cell_type": "code",
   "execution_count": 10,
   "metadata": {},
   "outputs": [],
   "source": [
    "def shapiro_test(feature: pd.Series) -> print:\n",
    "    \"\"\"функция для проверги гиппотез на нормальность\"\"\"\n",
    "    \n",
    "    \n",
    "    alpha = 0.5\n",
    "    result = shapiro(feature[:1000])\n",
    "    \n",
    "    p = result[1]\n",
    "    print(f'p = {p}')\n",
    "    \n",
    "    if p <= alpha:\n",
    "        print(f'не имеет нормального распредение при alpha = {alpha}')\n",
    "    elif p > alpha:\n",
    "        print(f'имеет нормального распредение при alpha = {alpha}')"
   ]
  },
  {
   "cell_type": "code",
   "execution_count": 11,
   "metadata": {},
   "outputs": [],
   "source": [
    "def evaluation_result(y_train, y_train_pred, y_test, y_test_pred, show=True):\n",
    "    \"\"\"функция для оценки результатов обучения\"\"\"\n",
    "    \n",
    "    r2_train = r2_score(y_train, y_train_pred)\n",
    "    r2_test = r2_score(y_test, y_test_pred)\n",
    "    \n",
    "    print(\n",
    "        'R2:\\n',\n",
    "        f'train = {r2_train}\\n',\n",
    "        f'test = {r2_test}'\n",
    "    )\n",
    "\n",
    "    if show:\n",
    "        fig, ax = plt.subplots(nrows=1, ncols=2)\n",
    "        ax1, ax2 = ax\n",
    "\n",
    "        ax1.scatter(y_train, y_train_pred)\n",
    "        ax1.set_title(f'r2_train = {round(r2_train, 3)}')\n",
    "        ax1.set_xlabel('true')\n",
    "        ax1.set_ylabel('pred')\n",
    "\n",
    "        ax2.scatter(y_test, y_test_pred)\n",
    "        ax2.set_title(f'r2_test = {round(r2_test, 3)}')\n",
    "        ax2.set_xlabel('true')\n",
    "        ax2.set_ylabel('pred')\n",
    "\n",
    "        fig.set_size_inches(12, 4)\n",
    "        plt.subplots_adjust(wspace=0.4, hspace=0.1)\n",
    "        plt.show()"
   ]
  },
  {
   "cell_type": "code",
   "execution_count": 12,
   "metadata": {},
   "outputs": [],
   "source": [
    "def evaluation_classification(y_train_true, y_train_pred, y_test_true, y_test_pred):\n",
    "    \n",
    "    f1_train = f1_score(y_true=y_train_true, y_pred=y_train_pred)\n",
    "    f1_test = f1_score(y_true=y_test_true, y_pred=y_test_pred)\n",
    "    diff = f1_train - f1_test\n",
    "    \n",
    "    print(\n",
    "        f'f1 score:\\n',\n",
    "        f'\\ttrain = {round(f1_train, 2)}\\n',\n",
    "        f'\\ttest = {round(f1_test, 2)}\\n\\n',\n",
    "        f'\\tdiff = {round(diff, 2)}'\n",
    "    )"
   ]
  },
  {
   "cell_type": "code",
   "execution_count": 13,
   "metadata": {},
   "outputs": [],
   "source": [
    "def plot_outliers(df_train, df_test, col_name, hist = False):\n",
    "    \n",
    "    fig, ax = plt.subplots(1,3,figsize=(16,5))\n",
    "    ax[1].set_title('Train Dataset')\n",
    "    ax[2].set_title('Test Dataset')\n",
    "    sns.distplot(df_train[col_name], color='b', ax=ax[0], hist=hist, label='Train')\n",
    "    sns.distplot(df_test[col_name], color='r', ax=ax[0], hist=hist, label='Test')\n",
    "    sns.boxplot(df_train[col_name], ax=ax[1])\n",
    "    sns.boxplot(df_test[col_name], color='r', ax=ax[2])\n",
    "    plt.show()"
   ]
  },
  {
   "cell_type": "markdown",
   "metadata": {},
   "source": [
    "##### Описание датасета\n",
    "\n",
    "* **Home Ownership** - домовладение\n",
    "* **Annual Income** - годовой доход\n",
    "* **Years in current job** - количество лет на текущем месте работы\n",
    "* **Tax Liens** - налоговые обременения\n",
    "* **Number of Open Accounts** - количество открытых счетов\n",
    "* **Years of Credit History** - количество лет кредитной истории\n",
    "* **Maximum Open Credit** - наибольший открытый кредит\n",
    "* **Number of Credit Problems** - количество проблем с кредитом\n",
    "* **Months since last delinquent** - количество месяцев с последней просрочки платежа\n",
    "* **Bankruptcies** - банкротства\n",
    "* **Purpose** - цель кредита\n",
    "* **Term** - срок кредита\n",
    "* **Current Loan Amount** - текущая сумма кредита\n",
    "* **Current Credit Balance** - текущий кредитный баланс\n",
    "* **Monthly Debt** - ежемесячный долг\n",
    "* **Credit Score** - кредитный рейтинг\n",
    "* **Credit Default** - факт невыполнения кредитных обязательств (0 - погашен вовремя, 1 - просрочка)\n",
    "\n",
    "##### Xy_df"
   ]
  },
  {
   "cell_type": "code",
   "execution_count": 14,
   "metadata": {
    "scrolled": false
   },
   "outputs": [
    {
     "data": {
      "text/html": [
       "<div>\n",
       "<style scoped>\n",
       "    .dataframe tbody tr th:only-of-type {\n",
       "        vertical-align: middle;\n",
       "    }\n",
       "\n",
       "    .dataframe tbody tr th {\n",
       "        vertical-align: top;\n",
       "    }\n",
       "\n",
       "    .dataframe thead th {\n",
       "        text-align: right;\n",
       "    }\n",
       "</style>\n",
       "<table border=\"1\" class=\"dataframe\">\n",
       "  <thead>\n",
       "    <tr style=\"text-align: right;\">\n",
       "      <th></th>\n",
       "      <th>Home Ownership</th>\n",
       "      <th>Annual Income</th>\n",
       "      <th>Years in current job</th>\n",
       "      <th>Tax Liens</th>\n",
       "      <th>Number of Open Accounts</th>\n",
       "      <th>Years of Credit History</th>\n",
       "      <th>Maximum Open Credit</th>\n",
       "      <th>Number of Credit Problems</th>\n",
       "      <th>Months since last delinquent</th>\n",
       "      <th>Bankruptcies</th>\n",
       "      <th>Purpose</th>\n",
       "      <th>Term</th>\n",
       "      <th>Current Loan Amount</th>\n",
       "      <th>Current Credit Balance</th>\n",
       "      <th>Monthly Debt</th>\n",
       "      <th>Credit Score</th>\n",
       "      <th>Credit Default</th>\n",
       "    </tr>\n",
       "  </thead>\n",
       "  <tbody>\n",
       "    <tr>\n",
       "      <td>0</td>\n",
       "      <td>Own Home</td>\n",
       "      <td>482087.0</td>\n",
       "      <td>NaN</td>\n",
       "      <td>0.0</td>\n",
       "      <td>11.0</td>\n",
       "      <td>26.3</td>\n",
       "      <td>685960.0</td>\n",
       "      <td>1.0</td>\n",
       "      <td>NaN</td>\n",
       "      <td>1.0</td>\n",
       "      <td>debt consolidation</td>\n",
       "      <td>Short Term</td>\n",
       "      <td>99999999.0</td>\n",
       "      <td>47386.0</td>\n",
       "      <td>7914.0</td>\n",
       "      <td>749.0</td>\n",
       "      <td>0</td>\n",
       "    </tr>\n",
       "    <tr>\n",
       "      <td>1</td>\n",
       "      <td>Own Home</td>\n",
       "      <td>1025487.0</td>\n",
       "      <td>10+ years</td>\n",
       "      <td>0.0</td>\n",
       "      <td>15.0</td>\n",
       "      <td>15.3</td>\n",
       "      <td>1181730.0</td>\n",
       "      <td>0.0</td>\n",
       "      <td>NaN</td>\n",
       "      <td>0.0</td>\n",
       "      <td>debt consolidation</td>\n",
       "      <td>Long Term</td>\n",
       "      <td>264968.0</td>\n",
       "      <td>394972.0</td>\n",
       "      <td>18373.0</td>\n",
       "      <td>737.0</td>\n",
       "      <td>1</td>\n",
       "    </tr>\n",
       "  </tbody>\n",
       "</table>\n",
       "</div>"
      ],
      "text/plain": [
       "  Home Ownership  Annual Income Years in current job  Tax Liens  \\\n",
       "0       Own Home       482087.0                  NaN        0.0   \n",
       "1       Own Home      1025487.0            10+ years        0.0   \n",
       "\n",
       "   Number of Open Accounts  Years of Credit History  Maximum Open Credit  \\\n",
       "0                     11.0                     26.3             685960.0   \n",
       "1                     15.0                     15.3            1181730.0   \n",
       "\n",
       "   Number of Credit Problems  Months since last delinquent  Bankruptcies  \\\n",
       "0                        1.0                           NaN           1.0   \n",
       "1                        0.0                           NaN           0.0   \n",
       "\n",
       "              Purpose        Term  Current Loan Amount  \\\n",
       "0  debt consolidation  Short Term           99999999.0   \n",
       "1  debt consolidation   Long Term             264968.0   \n",
       "\n",
       "   Current Credit Balance  Monthly Debt  Credit Score  Credit Default  \n",
       "0                 47386.0        7914.0         749.0               0  \n",
       "1                394972.0       18373.0         737.0               1  "
      ]
     },
     "execution_count": 14,
     "metadata": {},
     "output_type": "execute_result"
    }
   ],
   "source": [
    "Xy_df = pd.read_csv(PATH_TO_TRAIN)\n",
    "Xy_df.head(2)"
   ]
  },
  {
   "cell_type": "code",
   "execution_count": 15,
   "metadata": {},
   "outputs": [
    {
     "name": "stdout",
     "output_type": "stream",
     "text": [
      "<class 'pandas.core.frame.DataFrame'>\n",
      "RangeIndex: 7500 entries, 0 to 7499\n",
      "Data columns (total 17 columns):\n",
      "Home Ownership                  7500 non-null object\n",
      "Annual Income                   5943 non-null float64\n",
      "Years in current job            7129 non-null object\n",
      "Tax Liens                       7500 non-null float64\n",
      "Number of Open Accounts         7500 non-null float64\n",
      "Years of Credit History         7500 non-null float64\n",
      "Maximum Open Credit             7500 non-null float64\n",
      "Number of Credit Problems       7500 non-null float64\n",
      "Months since last delinquent    3419 non-null float64\n",
      "Bankruptcies                    7486 non-null float64\n",
      "Purpose                         7500 non-null object\n",
      "Term                            7500 non-null object\n",
      "Current Loan Amount             7500 non-null float64\n",
      "Current Credit Balance          7500 non-null float64\n",
      "Monthly Debt                    7500 non-null float64\n",
      "Credit Score                    5943 non-null float64\n",
      "Credit Default                  7500 non-null int64\n",
      "dtypes: float64(12), int64(1), object(4)\n",
      "memory usage: 996.2+ KB\n"
     ]
    }
   ],
   "source": [
    "# Состояние данных\n",
    "\n",
    "Xy_df.info()"
   ]
  },
  {
   "cell_type": "markdown",
   "metadata": {},
   "source": [
    "Видно что в некоторых фичах есть __пропуски__"
   ]
  },
  {
   "cell_type": "code",
   "execution_count": 16,
   "metadata": {},
   "outputs": [
    {
     "data": {
      "text/plain": [
       "Annual Income                   20.76%\n",
       "Years in current job             4.95%\n",
       "Months since last delinquent    54.41%\n",
       "Bankruptcies                     0.19%\n",
       "Credit Score                    20.76%\n",
       "dtype: object"
      ]
     },
     "execution_count": 16,
     "metadata": {},
     "output_type": "execute_result"
    }
   ],
   "source": [
    "# Просмотрим их целостность в процентнах:\n",
    "\n",
    "missing_data(df=Xy_df)"
   ]
  },
  {
   "cell_type": "markdown",
   "metadata": {},
   "source": [
    "Видно что в некоторых фичах отсутствует __очень большое__ количество данных, от 5% до 54,5%"
   ]
  },
  {
   "cell_type": "code",
   "execution_count": 17,
   "metadata": {
    "scrolled": true
   },
   "outputs": [
    {
     "data": {
      "text/html": [
       "<div>\n",
       "<style scoped>\n",
       "    .dataframe tbody tr th:only-of-type {\n",
       "        vertical-align: middle;\n",
       "    }\n",
       "\n",
       "    .dataframe tbody tr th {\n",
       "        vertical-align: top;\n",
       "    }\n",
       "\n",
       "    .dataframe thead th {\n",
       "        text-align: right;\n",
       "    }\n",
       "</style>\n",
       "<table border=\"1\" class=\"dataframe\">\n",
       "  <thead>\n",
       "    <tr style=\"text-align: right;\">\n",
       "      <th></th>\n",
       "      <th>Annual Income</th>\n",
       "      <th>Tax Liens</th>\n",
       "      <th>Number of Open Accounts</th>\n",
       "      <th>Years of Credit History</th>\n",
       "      <th>Maximum Open Credit</th>\n",
       "      <th>Number of Credit Problems</th>\n",
       "      <th>Months since last delinquent</th>\n",
       "      <th>Bankruptcies</th>\n",
       "      <th>Current Loan Amount</th>\n",
       "      <th>Current Credit Balance</th>\n",
       "      <th>Monthly Debt</th>\n",
       "      <th>Credit Score</th>\n",
       "      <th>Credit Default</th>\n",
       "    </tr>\n",
       "  </thead>\n",
       "  <tbody>\n",
       "    <tr>\n",
       "      <td>count</td>\n",
       "      <td>5.943000e+03</td>\n",
       "      <td>7500.000000</td>\n",
       "      <td>7500.000000</td>\n",
       "      <td>7500.000000</td>\n",
       "      <td>7.500000e+03</td>\n",
       "      <td>7500.000000</td>\n",
       "      <td>3419.000000</td>\n",
       "      <td>7486.000000</td>\n",
       "      <td>7.500000e+03</td>\n",
       "      <td>7.500000e+03</td>\n",
       "      <td>7500.000000</td>\n",
       "      <td>5943.000000</td>\n",
       "      <td>7500.000000</td>\n",
       "    </tr>\n",
       "    <tr>\n",
       "      <td>mean</td>\n",
       "      <td>1.366392e+06</td>\n",
       "      <td>0.030133</td>\n",
       "      <td>11.130933</td>\n",
       "      <td>18.317467</td>\n",
       "      <td>9.451537e+05</td>\n",
       "      <td>0.170000</td>\n",
       "      <td>34.692600</td>\n",
       "      <td>0.117152</td>\n",
       "      <td>1.187318e+07</td>\n",
       "      <td>2.898332e+05</td>\n",
       "      <td>18314.454133</td>\n",
       "      <td>1151.087498</td>\n",
       "      <td>0.281733</td>\n",
       "    </tr>\n",
       "    <tr>\n",
       "      <td>std</td>\n",
       "      <td>8.453392e+05</td>\n",
       "      <td>0.271604</td>\n",
       "      <td>4.908924</td>\n",
       "      <td>7.041946</td>\n",
       "      <td>1.602622e+07</td>\n",
       "      <td>0.498598</td>\n",
       "      <td>21.688806</td>\n",
       "      <td>0.347192</td>\n",
       "      <td>3.192612e+07</td>\n",
       "      <td>3.178714e+05</td>\n",
       "      <td>11926.764673</td>\n",
       "      <td>1604.451418</td>\n",
       "      <td>0.449874</td>\n",
       "    </tr>\n",
       "    <tr>\n",
       "      <td>min</td>\n",
       "      <td>1.645970e+05</td>\n",
       "      <td>0.000000</td>\n",
       "      <td>2.000000</td>\n",
       "      <td>4.000000</td>\n",
       "      <td>0.000000e+00</td>\n",
       "      <td>0.000000</td>\n",
       "      <td>0.000000</td>\n",
       "      <td>0.000000</td>\n",
       "      <td>1.124200e+04</td>\n",
       "      <td>0.000000e+00</td>\n",
       "      <td>0.000000</td>\n",
       "      <td>585.000000</td>\n",
       "      <td>0.000000</td>\n",
       "    </tr>\n",
       "    <tr>\n",
       "      <td>25%</td>\n",
       "      <td>8.443410e+05</td>\n",
       "      <td>0.000000</td>\n",
       "      <td>8.000000</td>\n",
       "      <td>13.500000</td>\n",
       "      <td>2.792295e+05</td>\n",
       "      <td>0.000000</td>\n",
       "      <td>16.000000</td>\n",
       "      <td>0.000000</td>\n",
       "      <td>1.801690e+05</td>\n",
       "      <td>1.142565e+05</td>\n",
       "      <td>10067.500000</td>\n",
       "      <td>711.000000</td>\n",
       "      <td>0.000000</td>\n",
       "    </tr>\n",
       "    <tr>\n",
       "      <td>50%</td>\n",
       "      <td>1.168386e+06</td>\n",
       "      <td>0.000000</td>\n",
       "      <td>10.000000</td>\n",
       "      <td>17.000000</td>\n",
       "      <td>4.781590e+05</td>\n",
       "      <td>0.000000</td>\n",
       "      <td>32.000000</td>\n",
       "      <td>0.000000</td>\n",
       "      <td>3.095730e+05</td>\n",
       "      <td>2.093230e+05</td>\n",
       "      <td>16076.500000</td>\n",
       "      <td>731.000000</td>\n",
       "      <td>0.000000</td>\n",
       "    </tr>\n",
       "    <tr>\n",
       "      <td>75%</td>\n",
       "      <td>1.640137e+06</td>\n",
       "      <td>0.000000</td>\n",
       "      <td>14.000000</td>\n",
       "      <td>21.800000</td>\n",
       "      <td>7.935015e+05</td>\n",
       "      <td>0.000000</td>\n",
       "      <td>50.000000</td>\n",
       "      <td>0.000000</td>\n",
       "      <td>5.198820e+05</td>\n",
       "      <td>3.604062e+05</td>\n",
       "      <td>23818.000000</td>\n",
       "      <td>743.000000</td>\n",
       "      <td>1.000000</td>\n",
       "    </tr>\n",
       "    <tr>\n",
       "      <td>max</td>\n",
       "      <td>1.014934e+07</td>\n",
       "      <td>7.000000</td>\n",
       "      <td>43.000000</td>\n",
       "      <td>57.700000</td>\n",
       "      <td>1.304726e+09</td>\n",
       "      <td>7.000000</td>\n",
       "      <td>118.000000</td>\n",
       "      <td>4.000000</td>\n",
       "      <td>1.000000e+08</td>\n",
       "      <td>6.506797e+06</td>\n",
       "      <td>136679.000000</td>\n",
       "      <td>7510.000000</td>\n",
       "      <td>1.000000</td>\n",
       "    </tr>\n",
       "  </tbody>\n",
       "</table>\n",
       "</div>"
      ],
      "text/plain": [
       "       Annual Income    Tax Liens  Number of Open Accounts  \\\n",
       "count   5.943000e+03  7500.000000              7500.000000   \n",
       "mean    1.366392e+06     0.030133                11.130933   \n",
       "std     8.453392e+05     0.271604                 4.908924   \n",
       "min     1.645970e+05     0.000000                 2.000000   \n",
       "25%     8.443410e+05     0.000000                 8.000000   \n",
       "50%     1.168386e+06     0.000000                10.000000   \n",
       "75%     1.640137e+06     0.000000                14.000000   \n",
       "max     1.014934e+07     7.000000                43.000000   \n",
       "\n",
       "       Years of Credit History  Maximum Open Credit  \\\n",
       "count              7500.000000         7.500000e+03   \n",
       "mean                 18.317467         9.451537e+05   \n",
       "std                   7.041946         1.602622e+07   \n",
       "min                   4.000000         0.000000e+00   \n",
       "25%                  13.500000         2.792295e+05   \n",
       "50%                  17.000000         4.781590e+05   \n",
       "75%                  21.800000         7.935015e+05   \n",
       "max                  57.700000         1.304726e+09   \n",
       "\n",
       "       Number of Credit Problems  Months since last delinquent  Bankruptcies  \\\n",
       "count                7500.000000                   3419.000000   7486.000000   \n",
       "mean                    0.170000                     34.692600      0.117152   \n",
       "std                     0.498598                     21.688806      0.347192   \n",
       "min                     0.000000                      0.000000      0.000000   \n",
       "25%                     0.000000                     16.000000      0.000000   \n",
       "50%                     0.000000                     32.000000      0.000000   \n",
       "75%                     0.000000                     50.000000      0.000000   \n",
       "max                     7.000000                    118.000000      4.000000   \n",
       "\n",
       "       Current Loan Amount  Current Credit Balance   Monthly Debt  \\\n",
       "count         7.500000e+03            7.500000e+03    7500.000000   \n",
       "mean          1.187318e+07            2.898332e+05   18314.454133   \n",
       "std           3.192612e+07            3.178714e+05   11926.764673   \n",
       "min           1.124200e+04            0.000000e+00       0.000000   \n",
       "25%           1.801690e+05            1.142565e+05   10067.500000   \n",
       "50%           3.095730e+05            2.093230e+05   16076.500000   \n",
       "75%           5.198820e+05            3.604062e+05   23818.000000   \n",
       "max           1.000000e+08            6.506797e+06  136679.000000   \n",
       "\n",
       "       Credit Score  Credit Default  \n",
       "count   5943.000000     7500.000000  \n",
       "mean    1151.087498        0.281733  \n",
       "std     1604.451418        0.449874  \n",
       "min      585.000000        0.000000  \n",
       "25%      711.000000        0.000000  \n",
       "50%      731.000000        0.000000  \n",
       "75%      743.000000        1.000000  \n",
       "max     7510.000000        1.000000  "
      ]
     },
     "execution_count": 17,
     "metadata": {},
     "output_type": "execute_result"
    }
   ],
   "source": [
    "# Просмотрим сводку\n",
    "\n",
    "Xy_df.describe()"
   ]
  },
  {
   "cell_type": "code",
   "execution_count": 18,
   "metadata": {},
   "outputs": [
    {
     "name": "stdout",
     "output_type": "stream",
     "text": [
      "Credit Score                    44.21\n",
      "Number of Open Accounts          2.89\n",
      "Tax Liens                        2.44\n",
      "Number of Credit Problems        2.01\n",
      "Monthly Debt                     1.85\n",
      "Months since last delinquent     0.26\n",
      "Bankruptcies                     0.16\n",
      "Maximum Open Credit             -1.43\n",
      "Current Credit Balance          -1.95\n",
      "Years of Credit History         -2.06\n",
      "Annual Income                  -10.14\n",
      "Current Loan Amount            -22.65\n",
      "Name: Credit Default, dtype: float64\n"
     ]
    },
    {
     "data": {
      "image/png": "[encoded data removed]",
      "text/plain": [
       "<Figure size 864x288 with 1 Axes>"
      ]
     },
     "metadata": {
      "needs_background": "light"
     },
     "output_type": "display_data"
    }
   ],
   "source": [
    "# Посмотрим корреляцию с таргером\n",
    "\n",
    "correlation(df=Xy_df, target='Credit Default')"
   ]
  },
  {
   "cell_type": "markdown",
   "metadata": {},
   "source": [
    "- Наибольшая __прямая зависимость__ с таргером наблюдается у _Credit Score_ = 44%<br>\n",
    "\n",
    "(Скорее всего это __выбросы__, так как высокий __рейтинг__ не может совпадать с __не выполнением__ кредитвых обязательств.)\n",
    "\n",
    "- Наибольшая __обратная зависимость__ наблюдается у _Current Load Amount_ = -23%<br> \n",
    "\n",
    "(Т.е. __высокий доход__ совпадает с __надежностью клиента__ по выполнению кредитных обязательств.)\n",
    "\n",
    "##### X_Final"
   ]
  },
  {
   "cell_type": "code",
   "execution_count": 19,
   "metadata": {
    "scrolled": true
   },
   "outputs": [
    {
     "data": {
      "text/html": [
       "<div>\n",
       "<style scoped>\n",
       "    .dataframe tbody tr th:only-of-type {\n",
       "        vertical-align: middle;\n",
       "    }\n",
       "\n",
       "    .dataframe tbody tr th {\n",
       "        vertical-align: top;\n",
       "    }\n",
       "\n",
       "    .dataframe thead th {\n",
       "        text-align: right;\n",
       "    }\n",
       "</style>\n",
       "<table border=\"1\" class=\"dataframe\">\n",
       "  <thead>\n",
       "    <tr style=\"text-align: right;\">\n",
       "      <th></th>\n",
       "      <th>Home Ownership</th>\n",
       "      <th>Annual Income</th>\n",
       "      <th>Years in current job</th>\n",
       "      <th>Tax Liens</th>\n",
       "      <th>Number of Open Accounts</th>\n",
       "      <th>Years of Credit History</th>\n",
       "      <th>Maximum Open Credit</th>\n",
       "      <th>Number of Credit Problems</th>\n",
       "      <th>Months since last delinquent</th>\n",
       "      <th>Bankruptcies</th>\n",
       "      <th>Purpose</th>\n",
       "      <th>Term</th>\n",
       "      <th>Current Loan Amount</th>\n",
       "      <th>Current Credit Balance</th>\n",
       "      <th>Monthly Debt</th>\n",
       "      <th>Credit Score</th>\n",
       "    </tr>\n",
       "  </thead>\n",
       "  <tbody>\n",
       "    <tr>\n",
       "      <td>0</td>\n",
       "      <td>Rent</td>\n",
       "      <td>NaN</td>\n",
       "      <td>4 years</td>\n",
       "      <td>0.0</td>\n",
       "      <td>9.0</td>\n",
       "      <td>12.5</td>\n",
       "      <td>220968.0</td>\n",
       "      <td>0.0</td>\n",
       "      <td>70.0</td>\n",
       "      <td>0.0</td>\n",
       "      <td>debt consolidation</td>\n",
       "      <td>Short Term</td>\n",
       "      <td>162470.0</td>\n",
       "      <td>105906.0</td>\n",
       "      <td>6813.0</td>\n",
       "      <td>NaN</td>\n",
       "    </tr>\n",
       "    <tr>\n",
       "      <td>1</td>\n",
       "      <td>Rent</td>\n",
       "      <td>231838.0</td>\n",
       "      <td>1 year</td>\n",
       "      <td>0.0</td>\n",
       "      <td>6.0</td>\n",
       "      <td>32.7</td>\n",
       "      <td>55946.0</td>\n",
       "      <td>0.0</td>\n",
       "      <td>8.0</td>\n",
       "      <td>0.0</td>\n",
       "      <td>educational expenses</td>\n",
       "      <td>Short Term</td>\n",
       "      <td>78298.0</td>\n",
       "      <td>46037.0</td>\n",
       "      <td>2318.0</td>\n",
       "      <td>699.0</td>\n",
       "    </tr>\n",
       "  </tbody>\n",
       "</table>\n",
       "</div>"
      ],
      "text/plain": [
       "  Home Ownership  Annual Income Years in current job  Tax Liens  \\\n",
       "0           Rent            NaN              4 years        0.0   \n",
       "1           Rent       231838.0               1 year        0.0   \n",
       "\n",
       "   Number of Open Accounts  Years of Credit History  Maximum Open Credit  \\\n",
       "0                      9.0                     12.5             220968.0   \n",
       "1                      6.0                     32.7              55946.0   \n",
       "\n",
       "   Number of Credit Problems  Months since last delinquent  Bankruptcies  \\\n",
       "0                        0.0                          70.0           0.0   \n",
       "1                        0.0                           8.0           0.0   \n",
       "\n",
       "                Purpose        Term  Current Loan Amount  \\\n",
       "0    debt consolidation  Short Term             162470.0   \n",
       "1  educational expenses  Short Term              78298.0   \n",
       "\n",
       "   Current Credit Balance  Monthly Debt  Credit Score  \n",
       "0                105906.0        6813.0           NaN  \n",
       "1                 46037.0        2318.0         699.0  "
      ]
     },
     "execution_count": 19,
     "metadata": {},
     "output_type": "execute_result"
    }
   ],
   "source": [
    "X_final = pd.read_csv(PATH_TO_TEST)\n",
    "X_final.head(2)"
   ]
  },
  {
   "cell_type": "code",
   "execution_count": 20,
   "metadata": {},
   "outputs": [
    {
     "name": "stdout",
     "output_type": "stream",
     "text": [
      "<class 'pandas.core.frame.DataFrame'>\n",
      "RangeIndex: 2500 entries, 0 to 2499\n",
      "Data columns (total 16 columns):\n",
      "Home Ownership                  2500 non-null object\n",
      "Annual Income                   1987 non-null float64\n",
      "Years in current job            2414 non-null object\n",
      "Tax Liens                       2500 non-null float64\n",
      "Number of Open Accounts         2500 non-null float64\n",
      "Years of Credit History         2500 non-null float64\n",
      "Maximum Open Credit             2500 non-null float64\n",
      "Number of Credit Problems       2500 non-null float64\n",
      "Months since last delinquent    1142 non-null float64\n",
      "Bankruptcies                    2497 non-null float64\n",
      "Purpose                         2500 non-null object\n",
      "Term                            2500 non-null object\n",
      "Current Loan Amount             2500 non-null float64\n",
      "Current Credit Balance          2500 non-null float64\n",
      "Monthly Debt                    2500 non-null float64\n",
      "Credit Score                    1987 non-null float64\n",
      "dtypes: float64(12), object(4)\n",
      "memory usage: 312.6+ KB\n"
     ]
    }
   ],
   "source": [
    "# Состояние данных\n",
    "\n",
    "X_final.info()"
   ]
  },
  {
   "cell_type": "markdown",
   "metadata": {},
   "source": [
    "Видно что в некоторых фичах есть __пропуски__"
   ]
  },
  {
   "cell_type": "code",
   "execution_count": 21,
   "metadata": {},
   "outputs": [
    {
     "data": {
      "text/plain": [
       "Annual Income                   20.52%\n",
       "Years in current job             3.44%\n",
       "Months since last delinquent    54.32%\n",
       "Bankruptcies                     0.12%\n",
       "Credit Score                    20.52%\n",
       "dtype: object"
      ]
     },
     "execution_count": 21,
     "metadata": {},
     "output_type": "execute_result"
    }
   ],
   "source": [
    "# Просмотрим их процентное соотношение:\n",
    "\n",
    "missing_data(df=X_final)"
   ]
  },
  {
   "cell_type": "markdown",
   "metadata": {},
   "source": [
    "Так же как и в train видно, что в некоторых фичах отсутствует __очень большое__ количество данных, от 3,5% до 54%"
   ]
  },
  {
   "cell_type": "code",
   "execution_count": 22,
   "metadata": {
    "scrolled": true
   },
   "outputs": [],
   "source": [
    "# Сопоставим данные в train и test\n",
    "# cont_cols = ['Annual Income', 'Tax Liens', 'Number of Open Accounts', \n",
    "#              'Years of Credit History', 'Maximum Open Credit', 'Number of Credit Problems', 'Months since last delinquent', \n",
    "#              'Bankruptcies', 'Current Loan Amount', 'Current Credit Balance', 'Monthly Debt', 'Credit Score']\n",
    "\n",
    "# for col in cont_cols:\n",
    "#     plot_outliers(Xy_df, X_final, col)"
   ]
  },
  {
   "cell_type": "markdown",
   "metadata": {},
   "source": [
    "Видны расхождения в дынных по некоторым признакам"
   ]
  },
  {
   "cell_type": "markdown",
   "metadata": {},
   "source": [
    "## 3. Обработка данных"
   ]
  },
  {
   "cell_type": "code",
   "execution_count": 23,
   "metadata": {},
   "outputs": [],
   "source": [
    "class Preprocessing:\n",
    "    \"\"\"Класс для предобработки данных\"\"\"\n",
    "    \n",
    "    def __init__(self, df, features):\n",
    "        \n",
    "        self.features = features\n",
    "        self.df = df.copy()\n",
    "        \n",
    "        self.missMSLD = 'Изначально пуст'\n",
    "        self.missBankruptcies = 'Изначально пуст'\n",
    "        \n",
    "        self.emmissMOC = 'Изначально пуст'\n",
    "        \n",
    "        self.modelAnIn = 'Изначально пуст'\n",
    "        self.modelCrSc = 'Изначально пуст'\n",
    "        self.modelCLA = 'Изначально пуст'\n",
    "        \n",
    "        self.columnsAnIn = ['Annual Income', 'Home Ownership', 'Tax Liens', 'Number of Open Accounts', 'Maximum Open Credit', \n",
    "                            'Number of Credit Problems', 'Months since last delinquent', 'Current Loan Amount', \n",
    "                            'Current Credit Balance', 'Monthly Debt', 'Credit Score']\n",
    "        self.columnsCrSc = ['Credit Score', 'Term', 'Current Loan Amount', 'Home Ownership', 'Annual Income', \n",
    "                            'Years of Credit History', 'Maximum Open Credit', 'Number of Credit Problems', \n",
    "                            'Months since last delinquent', 'Bankruptcies', 'Current Credit Balance', 'Monthly Debt', \n",
    "                            'errorsCS', 'Number of Open Accounts']\n",
    "        self.columnsCLA = ['Current Loan Amount', 'Annual Income', 'Maximum Open Credit', 'Term', 'Current Credit Balance', \n",
    "                           'Number of Open Accounts', 'Years of Credit History', 'Credit Score']\n",
    "        \n",
    "    def concat_values(self, df=None):\n",
    "        \"\"\"Объединение значений\"\"\"\n",
    "        \n",
    "        if df is None:\n",
    "            df = self.df\n",
    "        \n",
    "        df.loc[df['Home Ownership'] == 'Have Mortgage', 'Home Ownership'] = 'Home Mortgage'\n",
    "        df.loc[df['Home Ownership'] == 'Rent', 'Home Ownership'] = 'Own Home'\n",
    "        \n",
    "    def mark(self, df=None):\n",
    "        \"\"\"Пометка ошибок в данных\"\"\"\n",
    "        \n",
    "        if df is None:\n",
    "            df = self.df\n",
    "        \n",
    "        df.loc[df['Current Loan Amount'] < 2e7, 'emissionsCLA'] = 0\n",
    "        df.loc[df['Current Loan Amount'] > 2e7, 'emissionsCLA'] = 1\n",
    "        \n",
    "        df.loc[df['Credit Score'] <= 999, 'errorsCS'] = 0\n",
    "        df.loc[df['Credit Score'] > 999, 'errorsCS'] = 1\n",
    "        df.loc[df['Credit Score'].isna(), 'errorsCS'] = 2\n",
    "        \n",
    "        df.loc[df['Annual Income'].notna(), 'omissionsAI'] = 0\n",
    "        df.loc[df['Annual Income'].isna(), 'omissionsAI'] = 1\n",
    "        \n",
    "    def retype_in_float(self, df=None):\n",
    "        \"\"\"Ретипизация данных из строк в категории\"\"\"\n",
    "    \n",
    "        if df is None:\n",
    "            df = self.df\n",
    "        \n",
    "        df['Home Ownership'] = df['Home Ownership'].map({'Home Mortgage': 0, 'Own Home': 1}).astype(float)\n",
    "        df['Term'] = df['Term'].map({'Short Term': 0, 'Long Term':1}).astype(float)\n",
    "        \n",
    "    def missingMSLD(self):\n",
    "        \"\"\"заполнение пропусков суммой пропусков\"\"\"\n",
    "        \n",
    "        df = self.df\n",
    "        \n",
    "        self.missMSLD = (df['Months since last delinquent'].isna()).sum()\n",
    "        \n",
    "        df.loc[df['Months since last delinquent'].isna(), 'Months since last delinquent'] = self.missMSLD\n",
    "        \n",
    "    def missingBankruptcies(self):\n",
    "        \"\"\"заполнение пропусков медианой\"\"\"\n",
    "        \n",
    "        df = self.df\n",
    "        \n",
    "        self.missBankruptcies = df['Bankruptcies'].quantile(q=0.5)\n",
    "        \n",
    "        df.loc[df['Bankruptcies'].isna(), 'Bankruptcies'] = self.missBankruptcies\n",
    "        \n",
    "    def missingAnIn(self):\n",
    "        \"\"\"заполнение пропусков при помощи LGBM\"\"\"\n",
    "        \n",
    "        df = self.df\n",
    "\n",
    "        pred, self.modelAnIn = pred_feature(df=df, target='Annual Income', columns=self.columnsAnIn, \n",
    "                                        max_depth=1, learning_rate=0.2, n_estimators=1950)\n",
    "        df.loc[df['Annual Income'].isna(), 'Annual Income'] = pred\n",
    "        \n",
    "    def missingCrSc(self):\n",
    "        \"\"\"заполнение пропусков при помощи LGBM\"\"\"\n",
    "        \n",
    "        df = self.df\n",
    "        \n",
    "        pred, self.modelCrSc = pred_feature(df=df, target='Credit Score', columns=self.columnsCrSc, \n",
    "                                        max_depth=1, learning_rate=0.1, n_estimators=1300)\n",
    "        df.loc[df['Credit Score'].isna(), 'Credit Score'] = pred\n",
    "        \n",
    "    def emissionsCS(self):\n",
    "        \"\"\"обработка выбросов путем деления на 10\"\"\"\n",
    "        \n",
    "        df = self.df\n",
    "        \n",
    "        df.loc[df['Credit Score']>999, 'Credit Score'] = df.loc[df['Credit Score']>999, 'Credit Score'] / 10\n",
    "        \n",
    "    def emissionsMOC(self):\n",
    "        \"\"\"Обработка выбросов средним значением\"\"\"\n",
    "        \n",
    "        df = self.df\n",
    "        \n",
    "        self.emmissMOC = df['Maximum Open Credit'].mean()\n",
    "        \n",
    "        df.loc[df['Maximum Open Credit'] > 2e8, 'Maximum Open Credit'] = self.emmissMOC\n",
    "        \n",
    "    def emissionsCLA(self):\n",
    "        \"\"\"заполнение пропусков при помощи LGBM\"\"\"\n",
    "        \n",
    "        df = self.df\n",
    "        \n",
    "        target = 'Current Loan Amount'\n",
    "        \n",
    "        columns = ['Current Loan Amount', 'Annual Income', 'Maximum Open Credit', 'Term', 'Current Credit Balance', \n",
    "                   'Number of Open Accounts', 'Years of Credit History', 'Credit Score']\n",
    "        \n",
    "        df.loc[df[target] > 2e7, target] = np.nan\n",
    "        \n",
    "        pred, self.modelCLA = pred_feature(df=df, target=target, columns=columns, \n",
    "                                        max_depth=1, learning_rate=0.1, n_estimators=490)\n",
    "        df.loc[df[target].isna(), target] = pred\n",
    "        \n",
    "    def genering_features(self, df=None):\n",
    "        \"\"\"Генерация новых признаков\"\"\"\n",
    "        \n",
    "        if df is None:\n",
    "            df = self.df\n",
    "        \n",
    "        df['Months to Maturity'] = df['Current Credit Balance']/df['Monthly Debt']\n",
    "        df.loc[df['Months to Maturity'].isna(), 'Months to Maturity'] = 0\n",
    "        \n",
    "        df['Monthly Income'] = df['Annual Income'] / 12\n",
    "        df['Income Debt'] = df['Monthly Debt'] / df['Monthly Income'] * 100\n",
    "        \n",
    "        new_columns = 'Months to Maturity', 'Monthly Income', 'Income Debt'\n",
    "        \n",
    "        for col in new_columns:\n",
    "            self.features.append(col)\n",
    "        \n",
    "    def standard_data(self, df=None):\n",
    "        \"\"\"Стандартизация данных\"\"\"\n",
    "        \n",
    "        if df is None:\n",
    "            df = self.df\n",
    "        \n",
    "        scaler = StandardScaler()\n",
    "        df[self.features] = scaler.fit_transform(df[self.features])\n",
    "\n",
    "        \n",
    "    def fit_transform(self):\n",
    "        \"\"\"Обучение пайплайна\"\"\"\n",
    "        \n",
    "        self.concat_values()\n",
    "        self.mark()\n",
    "        self.retype_in_float()\n",
    "\n",
    "        self.missingMSLD()\n",
    "        self.missingBankruptcies()\n",
    "\n",
    "        self.emissionsCS()\n",
    "        self.emissionsMOC()\n",
    "\n",
    "        self.missingAnIn()\n",
    "        self.missingCrSc()\n",
    "\n",
    "        self.emissionsCLA()\n",
    "        \n",
    "        self.genering_features()\n",
    "        \n",
    "        self.standard_data()\n",
    "        \n",
    "    def transform(self, df):\n",
    "        \n",
    "        df = df.copy()\n",
    "        \n",
    "        self.concat_values(df)\n",
    "        self.mark(df)\n",
    "        self.retype_in_float(df)\n",
    "        \n",
    "        # first ommisions\n",
    "        df.loc[df['Months since last delinquent'].isna(), 'Months since last delinquent'] = self.missMSLD\n",
    "        df.loc[df['Bankruptcies'].isna(), 'Bankruptcies'] = self.missBankruptcies\n",
    "        \n",
    "        # first emmisions\n",
    "        df.loc[df['Credit Score']>999, 'Credit Score'] = df.loc[df['Credit Score']>999, 'Credit Score'] / 10\n",
    "        df.loc[df['Maximum Open Credit'] > 2e8, 'Maximum Open Credit'] = self.emmissMOC\n",
    "        \n",
    "        # Annual Income\n",
    "        dfAnIn = df[self.columnsAnIn]\n",
    "        dfAnIn = dfAnIn[dfAnIn['Annual Income'].isna()].drop('Annual Income', axis=1)\n",
    "        \n",
    "        pred = self.modelAnIn.predict(dfAnIn)\n",
    "        \n",
    "        df.loc[df['Annual Income'].isna(), 'Annual Income'] = pred\n",
    "        \n",
    "        # Credit Score\n",
    "        dfCrSc = df[self.columnsCrSc]\n",
    "        dfCrSc = dfCrSc[dfCrSc['Credit Score'].isna()].drop('Credit Score', axis=1)\n",
    "        \n",
    "        pred = self.modelCrSc.predict(dfCrSc)\n",
    "        \n",
    "        df.loc[df['Credit Score'].isna(), 'Credit Score'] = pred\n",
    "        \n",
    "        # Current Loan Amount\n",
    "        df.loc[df['Current Loan Amount'] > 2e7, 'Current Loan Amount'] = np.nan\n",
    "        \n",
    "        dfCLA = df[self.columnsCLA]\n",
    "        dfCLA = dfCLA[dfCLA['Current Loan Amount'].isna()].drop('Current Loan Amount', axis=1)\n",
    "        \n",
    "        pred = self.modelCLA.predict(dfCLA)\n",
    "        \n",
    "        df.loc[df['Current Loan Amount'].isna(), 'Current Loan Amount'] = pred\n",
    "        \n",
    "        self.genering_features(df)\n",
    "        \n",
    "        self.standard_data(df)\n",
    "        \n",
    "        return df"
   ]
  },
  {
   "cell_type": "markdown",
   "metadata": {},
   "source": [
    "### Отбор признаков"
   ]
  },
  {
   "cell_type": "code",
   "execution_count": 24,
   "metadata": {},
   "outputs": [],
   "source": [
    "# разобъем пригнаки \n",
    "TARGET_NAME = 'Credit Default'\n",
    "FEATURE_NAMES = ['Annual Income', 'Tax Liens', 'Number of Open Accounts', 'Years of Credit History', 'Maximum Open Credit', \n",
    "                 'Number of Credit Problems', 'Months since last delinquent', 'Bankruptcies', 'Current Loan Amount', \n",
    "                 'Current Credit Balance', 'Monthly Debt', 'Credit Score', 'Term', 'Home Ownership']\n",
    "\n",
    "# инициализируем класс предобработки\n",
    "xy_prep = Preprocessing(df=Xy_df, features=FEATURE_NAMES)"
   ]
  },
  {
   "cell_type": "markdown",
   "metadata": {},
   "source": [
    "### Проверка гипотез\n",
    "\n",
    "##### Нормальность\n",
    "\n",
    "- Просмотрим график __Annual Income__"
   ]
  },
  {
   "cell_type": "code",
   "execution_count": 25,
   "metadata": {},
   "outputs": [
    {
     "data": {
      "image/png": "[encoded data removed]",
      "text/plain": [
       "<Figure size 432x288 with 1 Axes>"
      ]
     },
     "metadata": {
      "needs_background": "light"
     },
     "output_type": "display_data"
    }
   ],
   "source": [
    "annInc = Xy_df[Xy_df['Annual Income'].notna()]['Annual Income']\n",
    "\n",
    "sns.distplot(annInc)\n",
    "plt.show()"
   ]
  },
  {
   "cell_type": "markdown",
   "metadata": {},
   "source": [
    "$H_0 -$ __Annual Income__ имеет нормальное распределение <br>\n",
    "$H_1 -$ __Annual Income__ не имеет нормального распределения"
   ]
  },
  {
   "cell_type": "code",
   "execution_count": 26,
   "metadata": {},
   "outputs": [
    {
     "name": "stdout",
     "output_type": "stream",
     "text": [
      "p = 1.8844925930263994e-32\n",
      "не имеет нормального распредение при alpha = 0.5\n"
     ]
    }
   ],
   "source": [
    "shapiro_test(feature=annInc)"
   ]
  },
  {
   "cell_type": "markdown",
   "metadata": {},
   "source": [
    "$H_0 = H_1,\\ H_0$ опровергнута\n",
    "\n",
    "- Просмотрим график __Monthly Debt__"
   ]
  },
  {
   "cell_type": "code",
   "execution_count": 27,
   "metadata": {},
   "outputs": [
    {
     "data": {
      "image/png": "[encoded data removed]",
      "text/plain": [
       "<Figure size 432x288 with 1 Axes>"
      ]
     },
     "metadata": {
      "needs_background": "light"
     },
     "output_type": "display_data"
    }
   ],
   "source": [
    "mountlyD = Xy_df['Monthly Debt']\n",
    "\n",
    "sns.distplot(mountlyD)\n",
    "plt.show()"
   ]
  },
  {
   "cell_type": "markdown",
   "metadata": {},
   "source": [
    "$H_0 -$ __Monthly Debt__ имеет нормальное распределение<br>\n",
    "$H_1 -$ __Monthly Debt__ не имеет нормального распределения"
   ]
  },
  {
   "cell_type": "code",
   "execution_count": 28,
   "metadata": {},
   "outputs": [
    {
     "name": "stdout",
     "output_type": "stream",
     "text": [
      "p = 6.993885971736841e-25\n",
      "не имеет нормального распредение при alpha = 0.5\n"
     ]
    }
   ],
   "source": [
    "shapiro_test(feature=mountlyD)"
   ]
  },
  {
   "cell_type": "markdown",
   "metadata": {},
   "source": [
    "$H_0 = H_1,\\ H_0$ опровергнута"
   ]
  },
  {
   "cell_type": "markdown",
   "metadata": {},
   "source": [
    "##### Синхронность\n",
    "\n",
    "- Посмотрим график классов таргета в __Home Ownership__"
   ]
  },
  {
   "cell_type": "code",
   "execution_count": 29,
   "metadata": {},
   "outputs": [
    {
     "data": {
      "image/png": "[encoded data removed]",
      "text/plain": [
       "<Figure size 432x288 with 1 Axes>"
      ]
     },
     "metadata": {
      "needs_background": "light"
     },
     "output_type": "display_data"
    }
   ],
   "source": [
    "sns.countplot(x='Home Ownership', hue='Credit Default', data=Xy_df)\n",
    "plt.show()"
   ]
  },
  {
   "cell_type": "markdown",
   "metadata": {},
   "source": [
    "$H_0 -$ Home Morgage и Have Mortgage - cинхронны<br>\n",
    "$H_1 -$ Home Morgage и Have Mortgage - не cинхронны"
   ]
  },
  {
   "cell_type": "code",
   "execution_count": 30,
   "metadata": {},
   "outputs": [
    {
     "name": "stdout",
     "output_type": "stream",
     "text": [
      "p = 0.7619804179070149\n",
      "Have Mortgage == Home Mortgage, при alpha = 0.5\n",
      "p = 0.7573724196801643\n",
      "Own Home == Rent, при alpha = 0.5\n"
     ]
    }
   ],
   "source": [
    "feature = 'Home Ownership'\n",
    "\n",
    "values = 'Have Mortgage', 'Home Mortgage'\n",
    "chi2_test(df=Xy_df, feature=feature, values=values)\n",
    "\n",
    "values = 'Own Home', 'Rent'\n",
    "chi2_test(df=Xy_df, feature=feature, values=values)"
   ]
  },
  {
   "cell_type": "markdown",
   "metadata": {},
   "source": [
    "Составим функций для объединения значений и применим"
   ]
  },
  {
   "cell_type": "code",
   "execution_count": 31,
   "metadata": {},
   "outputs": [],
   "source": [
    "xy_prep.concat_values()"
   ]
  },
  {
   "cell_type": "markdown",
   "metadata": {},
   "source": [
    "* ### Создание отметок и ретипизация (пропуски, выбросы, ретайпы)"
   ]
  },
  {
   "cell_type": "code",
   "execution_count": 32,
   "metadata": {},
   "outputs": [],
   "source": [
    "xy_prep.mark() # пропуски и выбросы\n",
    "xy_prep.retype_in_float() # ретайпы"
   ]
  },
  {
   "cell_type": "markdown",
   "metadata": {},
   "source": [
    "### Первичная обработка пропусков"
   ]
  },
  {
   "cell_type": "code",
   "execution_count": 33,
   "metadata": {},
   "outputs": [
    {
     "data": {
      "text/plain": [
       "Annual Income                   20.76%\n",
       "Years in current job             4.95%\n",
       "Months since last delinquent    54.41%\n",
       "Bankruptcies                     0.19%\n",
       "Credit Score                    20.76%\n",
       "dtype: object"
      ]
     },
     "execution_count": 33,
     "metadata": {},
     "output_type": "execute_result"
    }
   ],
   "source": [
    "missing_data(df=Xy_df)"
   ]
  },
  {
   "cell_type": "markdown",
   "metadata": {},
   "source": [
    "- **Months since last delinquent** - количество месяцев с последней просрочки платежа"
   ]
  },
  {
   "cell_type": "code",
   "execution_count": 34,
   "metadata": {},
   "outputs": [],
   "source": [
    "\"\"\"Судя по большому количеству пропусков в этом признаке можно сделать вывод, \n",
    "что они говорят об отсутствии просрочек по платежу, \n",
    "а значит посчитать количество месяцев не возможно.\n",
    "\n",
    "Тогда заполним пропуски числом, которое будет показывать нам - сколько всего таких пропусков.\"\"\"\n",
    "\n",
    "xy_prep.missingMSLD()"
   ]
  },
  {
   "cell_type": "markdown",
   "metadata": {},
   "source": [
    "- **Bankruptcies** - банкротство"
   ]
  },
  {
   "cell_type": "code",
   "execution_count": 35,
   "metadata": {},
   "outputs": [],
   "source": [
    "\"\"\"Здесь ставнительно не много пропусков поэтому заполним их медиальным значением\"\"\"\n",
    "\n",
    "xy_prep.missingBankruptcies()"
   ]
  },
  {
   "cell_type": "markdown",
   "metadata": {},
   "source": [
    "### Первичная обработка выбросов\n",
    "\n",
    "- **Credit Score** - кредитный рейтинг"
   ]
  },
  {
   "cell_type": "code",
   "execution_count": 36,
   "metadata": {},
   "outputs": [
    {
     "name": "stdout",
     "output_type": "stream",
     "text": [
      "min = 585.0\n",
      "max = 7510.0\n",
      "mean = 1151.0874978966851\n",
      "Число выбрасов = 400\n",
      "Процент выбрасов = 5.33%\n"
     ]
    },
    {
     "data": {
      "image/png": "[encoded data removed]",
      "text/plain": [
       "<Figure size 432x288 with 1 Axes>"
      ]
     },
     "metadata": {
      "needs_background": "light"
     },
     "output_type": "display_data"
    }
   ],
   "source": [
    "emission(\n",
    "    series=Xy_df['Credit Score'], \n",
    "    val=999,\n",
    ")"
   ]
  },
  {
   "cell_type": "code",
   "execution_count": 37,
   "metadata": {},
   "outputs": [],
   "source": [
    "\"\"\"Зная, что максимальный кредитный рейтинг = 999, поделим выбросы на 10\"\"\"\n",
    "\n",
    "xy_prep.emissionsCS()"
   ]
  },
  {
   "cell_type": "markdown",
   "metadata": {},
   "source": [
    "- **Maximum Open Credit** - максимальная сумма кредита"
   ]
  },
  {
   "cell_type": "code",
   "execution_count": 38,
   "metadata": {},
   "outputs": [
    {
     "name": "stdout",
     "output_type": "stream",
     "text": [
      "min = 0.0\n",
      "max = 1304726170.0\n",
      "mean = 945153.7274666667\n",
      "Число выбрасов = 3\n",
      "Процент выбрасов = 0.04%\n"
     ]
    },
    {
     "data": {
      "image/png": "[encoded data removed]",
      "text/plain": [
       "<Figure size 432x288 with 1 Axes>"
      ]
     },
     "metadata": {
      "needs_background": "light"
     },
     "output_type": "display_data"
    }
   ],
   "source": [
    "emission(\n",
    "    series=Xy_df['Maximum Open Credit'],\n",
    "    val=2e8\n",
    ")"
   ]
  },
  {
   "cell_type": "code",
   "execution_count": 39,
   "metadata": {},
   "outputs": [],
   "source": [
    "# Наблюдается 3 выброса, приведем их к среднему значению\n",
    "\n",
    "xy_prep.emissionsMOC()"
   ]
  },
  {
   "cell_type": "markdown",
   "metadata": {},
   "source": [
    "### Вторичная обработка пропусков"
   ]
  },
  {
   "cell_type": "markdown",
   "metadata": {},
   "source": [
    "- **Annual Income** - годовой доход\n",
    "\n",
    "Восстановим данные при помощи LightGBM"
   ]
  },
  {
   "cell_type": "code",
   "execution_count": 40,
   "metadata": {},
   "outputs": [
    {
     "name": "stdout",
     "output_type": "stream",
     "text": [
      "Annual Income\n",
      "R2:\n",
      " train = 0.48896923596018405\n",
      " test = 0.4108604949536675\n"
     ]
    },
    {
     "data": {
      "image/png": "[encoded data removed]",
      "text/plain": [
       "<Figure size 864x288 with 2 Axes>"
      ]
     },
     "metadata": {
      "needs_background": "light"
     },
     "output_type": "display_data"
    }
   ],
   "source": [
    "xy_prep.missingAnIn()"
   ]
  },
  {
   "cell_type": "markdown",
   "metadata": {},
   "source": [
    "- **Credit Score** - кредитный рейтинг"
   ]
  },
  {
   "cell_type": "code",
   "execution_count": 41,
   "metadata": {},
   "outputs": [
    {
     "name": "stdout",
     "output_type": "stream",
     "text": [
      "Credit Score\n",
      "R2:\n",
      " train = 0.36326740951754144\n",
      " test = 0.35728653757197404\n"
     ]
    },
    {
     "data": {
      "image/png": "[encoded data removed]",
      "text/plain": [
       "<Figure size 864x288 with 2 Axes>"
      ]
     },
     "metadata": {
      "needs_background": "light"
     },
     "output_type": "display_data"
    }
   ],
   "source": [
    "xy_prep.missingCrSc()"
   ]
  },
  {
   "cell_type": "markdown",
   "metadata": {},
   "source": [
    "### Вторичная обработка выбрасов\n",
    "\n",
    "- **Current Loan Amount** - текущая сумма кредита"
   ]
  },
  {
   "cell_type": "code",
   "execution_count": 42,
   "metadata": {},
   "outputs": [
    {
     "name": "stdout",
     "output_type": "stream",
     "text": [
      "min = 11242.0\n",
      "max = 99999999.0\n",
      "mean = 11873177.445066666\n",
      "Число выбрасов = 870\n",
      "Процент выбрасов = 11.6%\n"
     ]
    },
    {
     "data": {
      "image/png": "[encoded data removed]",
      "text/plain": [
       "<Figure size 432x288 with 1 Axes>"
      ]
     },
     "metadata": {
      "needs_background": "light"
     },
     "output_type": "display_data"
    }
   ],
   "source": [
    "emission(\n",
    "    series=Xy_df['Current Loan Amount'],\n",
    "    val=2e7,\n",
    ")"
   ]
  },
  {
   "cell_type": "markdown",
   "metadata": {},
   "source": [
    "Обработаем выбросы при помощи LightGBM"
   ]
  },
  {
   "cell_type": "code",
   "execution_count": 43,
   "metadata": {},
   "outputs": [
    {
     "name": "stdout",
     "output_type": "stream",
     "text": [
      "Current Loan Amount\n",
      "R2:\n",
      " train = 0.5058376815237862\n",
      " test = 0.5116308505775402\n"
     ]
    },
    {
     "data": {
      "image/png": "[encoded data removed]",
      "text/plain": [
       "<Figure size 864x288 with 2 Axes>"
      ]
     },
     "metadata": {
      "needs_background": "light"
     },
     "output_type": "display_data"
    }
   ],
   "source": [
    "xy_prep.emissionsCLA()"
   ]
  },
  {
   "cell_type": "markdown",
   "metadata": {},
   "source": [
    "Просмотрим результаты"
   ]
  },
  {
   "cell_type": "markdown",
   "metadata": {},
   "source": [
    "## 4. Генерация новых признаков\n",
    "\n",
    "- Примерное количество месяцев до выплаты кредита\n",
    "- Ежемесячный доход\n",
    "- Процент долга от дохода"
   ]
  },
  {
   "cell_type": "code",
   "execution_count": 44,
   "metadata": {},
   "outputs": [],
   "source": [
    "xy_prep.genering_features()"
   ]
  },
  {
   "cell_type": "code",
   "execution_count": 45,
   "metadata": {},
   "outputs": [
    {
     "name": "stdout",
     "output_type": "stream",
     "text": [
      "Credit Score                    44.21\n",
      "Number of Open Accounts          2.89\n",
      "Tax Liens                        2.44\n",
      "Number of Credit Problems        2.01\n",
      "Monthly Debt                     1.85\n",
      "Months since last delinquent     0.26\n",
      "Bankruptcies                     0.16\n",
      "Maximum Open Credit             -1.43\n",
      "Current Credit Balance          -1.95\n",
      "Years of Credit History         -2.06\n",
      "Annual Income                  -10.14\n",
      "Current Loan Amount            -22.65\n",
      "Name: Credit Default, dtype: float64\n"
     ]
    },
    {
     "data": {
      "image/png": "[encoded data removed]",
      "text/plain": [
       "<Figure size 864x288 with 1 Axes>"
      ]
     },
     "metadata": {
      "needs_background": "light"
     },
     "output_type": "display_data"
    }
   ],
   "source": [
    "correlation(df=Xy_df, target='Credit Default')"
   ]
  },
  {
   "cell_type": "markdown",
   "metadata": {},
   "source": [
    "## 4. Обучение модели\n",
    "\n",
    "### Подготовка данных"
   ]
  },
  {
   "cell_type": "code",
   "execution_count": 46,
   "metadata": {},
   "outputs": [],
   "source": [
    "# Отбор признаков\n",
    "columns = ['errorsCS', 'Credit Score', 'Term', 'Income Debt', 'emissionsCLA',\n",
    "           'Credit Default']\n",
    "\n",
    "xy_prep.standard_data()\n",
    "\n",
    "Xy = xy_prep.df\n",
    "Xy = Xy[columns]\n",
    "\n",
    "# Разбмение на X и y\n",
    "X = Xy.drop('Credit Default', axis=1)\n",
    "y = Xy['Credit Default']\n",
    "\n",
    "# Разбиение на train и test\n",
    "X_train, X_test, y_train, y_test = train_test_split(X, y, shuffle=True, test_size=0.2, random_state=42)\n",
    "\n",
    "# # Балансировка классов\n",
    "df_to_balansing = pd.concat([X_train, y_train], axis=1)\n",
    "\n",
    "df_balanced = balancing(df=df_to_balansing, target_name=TARGET_NAME)\n",
    "\n",
    "X_train = df_balanced.drop(columns=TARGET_NAME)\n",
    "y_train = df_balanced[TARGET_NAME]"
   ]
  },
  {
   "cell_type": "markdown",
   "metadata": {},
   "source": [
    "##### Baseline\n",
    "\n",
    "_LighGBM_"
   ]
  },
  {
   "cell_type": "code",
   "execution_count": 47,
   "metadata": {},
   "outputs": [
    {
     "name": "stdout",
     "output_type": "stream",
     "text": [
      "f1 score:\n",
      " \ttrain = 0.6\n",
      " \ttest = 0.53\n",
      "\n",
      " \tdiff = 0.07\n"
     ]
    }
   ],
   "source": [
    "model_lgbm = LGBMClassifier(n_estimators=600, max_depth=1, learning_rate=0.01, \n",
    "                            random_state=42)\n",
    "model_lgbm.fit(X_train, y_train)\n",
    "\n",
    "y_train_pred = model_lgbm.predict(X_train)\n",
    "y_test_pred = model_lgbm.predict(X_test)\n",
    "\n",
    "evaluation_classification(y_train, y_train_pred, y_test, y_test_pred)"
   ]
  },
  {
   "cell_type": "markdown",
   "metadata": {},
   "source": [
    "_XGBoost_"
   ]
  },
  {
   "cell_type": "code",
   "execution_count": 48,
   "metadata": {},
   "outputs": [
    {
     "name": "stdout",
     "output_type": "stream",
     "text": [
      "f1 score:\n",
      " \ttrain = 0.6\n",
      " \ttest = 0.53\n",
      "\n",
      " \tdiff = 0.07\n"
     ]
    }
   ],
   "source": [
    "model_xgb = XGBClassifier(max_depth=1, n_estimators=600, eta=0.01, \n",
    "                          random_state=42)\n",
    "model_xgb.fit(X_train, y_train)\n",
    "\n",
    "y_train_pred = model_xgb.predict(X_train)\n",
    "y_test_pred = model_xgb.predict(X_test)\n",
    "\n",
    "evaluation_classification(y_train, y_train_pred, y_test, y_test_pred)"
   ]
  },
  {
   "cell_type": "markdown",
   "metadata": {},
   "source": [
    "_CatBoost_"
   ]
  },
  {
   "cell_type": "code",
   "execution_count": 49,
   "metadata": {},
   "outputs": [
    {
     "name": "stdout",
     "output_type": "stream",
     "text": [
      "f1 score:\n",
      " \ttrain = 0.6\n",
      " \ttest = 0.53\n",
      "\n",
      " \tdiff = 0.07\n"
     ]
    }
   ],
   "source": [
    "model_catb = CatBoostClassifier(iterations=600, learning_rate=0.01, depth=1,\n",
    "                                random_state=42, silent=True)\n",
    "model_catb.fit(X_train, y_train)\n",
    "\n",
    "y_train_pred = model_catb.predict(X_train)\n",
    "y_test_pred = model_catb.predict(X_test)\n",
    "\n",
    "evaluation_classification(y_train, y_train_pred, y_test, y_test_pred)"
   ]
  },
  {
   "cell_type": "markdown",
   "metadata": {},
   "source": [
    "### Просмотрим важность признаков"
   ]
  },
  {
   "cell_type": "code",
   "execution_count": 50,
   "metadata": {},
   "outputs": [
    {
     "data": {
      "text/html": [
       "<div>\n",
       "<style scoped>\n",
       "    .dataframe tbody tr th:only-of-type {\n",
       "        vertical-align: middle;\n",
       "    }\n",
       "\n",
       "    .dataframe tbody tr th {\n",
       "        vertical-align: top;\n",
       "    }\n",
       "\n",
       "    .dataframe thead th {\n",
       "        text-align: right;\n",
       "    }\n",
       "</style>\n",
       "<table border=\"1\" class=\"dataframe\">\n",
       "  <thead>\n",
       "    <tr style=\"text-align: right;\">\n",
       "      <th></th>\n",
       "      <th>feature_name</th>\n",
       "      <th>importance</th>\n",
       "    </tr>\n",
       "  </thead>\n",
       "  <tbody>\n",
       "    <tr>\n",
       "      <td>4</td>\n",
       "      <td>emissionsCLA</td>\n",
       "      <td>77.369036</td>\n",
       "    </tr>\n",
       "    <tr>\n",
       "      <td>0</td>\n",
       "      <td>errorsCS</td>\n",
       "      <td>12.734874</td>\n",
       "    </tr>\n",
       "    <tr>\n",
       "      <td>1</td>\n",
       "      <td>Credit Score</td>\n",
       "      <td>5.214871</td>\n",
       "    </tr>\n",
       "    <tr>\n",
       "      <td>2</td>\n",
       "      <td>Term</td>\n",
       "      <td>3.515016</td>\n",
       "    </tr>\n",
       "    <tr>\n",
       "      <td>3</td>\n",
       "      <td>Income Debt</td>\n",
       "      <td>1.166203</td>\n",
       "    </tr>\n",
       "  </tbody>\n",
       "</table>\n",
       "</div>"
      ],
      "text/plain": [
       "   feature_name  importance\n",
       "4  emissionsCLA   77.369036\n",
       "0      errorsCS   12.734874\n",
       "1  Credit Score    5.214871\n",
       "2          Term    3.515016\n",
       "3   Income Debt    1.166203"
      ]
     },
     "execution_count": 50,
     "metadata": {},
     "output_type": "execute_result"
    }
   ],
   "source": [
    "feature_importances = pd.DataFrame(zip(\n",
    "    X_train.columns,\n",
    "    model_catb.feature_importances_\n",
    "), columns=['feature_name', 'importance'])\n",
    "\n",
    "feature_importances.sort_values(by='importance', ascending=False, inplace=True)\n",
    "feature_importances"
   ]
  },
  {
   "cell_type": "markdown",
   "metadata": {},
   "source": [
    "## 5. Предсказание финальных данных"
   ]
  },
  {
   "cell_type": "code",
   "execution_count": 51,
   "metadata": {},
   "outputs": [],
   "source": [
    "# предлбрабатываем финальный датасет\n",
    "X_final_transform = xy_prep.transform(df=X_final)\n",
    "\n",
    "# отбираем признаки\n",
    "columns = ['errorsCS', 'Credit Score', 'Term', 'Income Debt', 'emissionsCLA']\n",
    "\n",
    "X_final_transform = X_final_transform[columns]\n",
    "\n",
    "# предсказываем результаты\n",
    "y_final_pred = model_catb.predict(X_final_transform)"
   ]
  },
  {
   "cell_type": "code",
   "execution_count": 52,
   "metadata": {},
   "outputs": [
    {
     "data": {
      "text/plain": [
       "array([1, 0, 1, ..., 0, 0, 1], dtype=int64)"
      ]
     },
     "execution_count": 52,
     "metadata": {},
     "output_type": "execute_result"
    }
   ],
   "source": [
    "y_final_pred"
   ]
  },
  {
   "cell_type": "markdown",
   "metadata": {},
   "source": [
    "## 6. Сохранение результатов"
   ]
  },
  {
   "cell_type": "code",
   "execution_count": null,
   "metadata": {},
   "outputs": [],
   "source": []
  }
 ],
 "metadata": {
  "kernelspec": {
   "display_name": "Python 3",
   "language": "python",
   "name": "python3"
  },
  "language_info": {
   "codemirror_mode": {
    "name": "ipython",
    "version": 3
   },
   "file_extension": ".py",
   "mimetype": "text/x-python",
   "name": "python",
   "nbconvert_exporter": "python",
   "pygments_lexer": "ipython3",
   "version": "3.7.4"
  }
 },
 "nbformat": 4,
 "nbformat_minor": 4
}
