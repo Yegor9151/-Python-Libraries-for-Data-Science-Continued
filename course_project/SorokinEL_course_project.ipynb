{
 "cells": [
  {
   "cell_type": "markdown",
   "metadata": {},
   "source": [
    "# Тема курсовой: обучение модели классификации для прогнозирования не выполнения долговых обязательств по текущему кредину.\n",
    "\n",
    "## 1. Подготовка ноутбука\n",
    "\n",
    "- Подключаем библиотеки"
   ]
  },
  {
   "cell_type": "code",
   "execution_count": 1,
   "metadata": {},
   "outputs": [],
   "source": [
    "import pandas as pd\n",
    "import numpy as np\n",
    "\n",
    "from scipy.stats import shapiro, ttest_rel, chi2_contingency\n",
    "\n",
    "from sklearn.metrics import r2_score, mean_squared_error as mse\n",
    "from sklearn.preprocessing import MinMaxScaler\n",
    "from sklearn.model_selection import train_test_split\n",
    "\n",
    "from sklearn.linear_model import LinearRegression\n",
    "from lightgbm import LGBMRegressor\n",
    "from xgboost import XGBRegressor\n",
    "from catboost import CatBoostRegressor\n",
    "\n",
    "import seaborn as sns\n",
    "import matplotlib.pyplot as plt\n",
    "%matplotlib inline\n",
    "%config Inlinebackend.figure_format = 'svg'\n",
    "\n",
    "import warnings\n",
    "warnings.filterwarnings('ignore')"
   ]
  },
  {
   "cell_type": "markdown",
   "metadata": {},
   "source": [
    "##### Функции для подготовки данных"
   ]
  },
  {
   "cell_type": "code",
   "execution_count": 2,
   "metadata": {},
   "outputs": [],
   "source": [
    "def sampling(df: pd.DataFrame, target: str, columns: list, final=False) -> tuple:\n",
    "    # формируем выборки\n",
    "    df = df[columns]\n",
    "    \n",
    "    Xy_df = df[df[target].notna()]\n",
    "    \n",
    "    X = Xy_df.drop(target, axis=1)\n",
    "    y = Xy_df[target]\n",
    "\n",
    "    # сплитим выборку\n",
    "    X_train, X_test, y_train, y_test = train_test_split(X, y, test_size=0.2, random_state=42)\n",
    "    \n",
    "    if final:\n",
    "        final = df[df[target].isna()]\n",
    "        final = final.drop(target, axis=1)\n",
    "        return X_train, X_test, y_train, y_test, final\n",
    "    elif not final:\n",
    "        return X_train, X_test, y_train, y_test"
   ]
  },
  {
   "cell_type": "code",
   "execution_count": 3,
   "metadata": {},
   "outputs": [],
   "source": [
    "def pred_feature(df, target, columns, num_leaves, max_depth, learning_rate, n_estimators, random_state=42):\n",
    "        \n",
    "    X_train, X_test, y_train, y_test, final = sampling(df=df, target=target, columns=columns, final=True)\n",
    "        \n",
    "    # обучаем модель\n",
    "    xgb_model = LGBMRegressor(num_leaves=num_leaves, max_depth=max_depth, learning_rate=learning_rate, \n",
    "                                  n_estimators=n_estimators, random_state=random_state)\n",
    "    xgb_model.fit(X_train, y_train)\n",
    "\n",
    "    # предсказываем зачения\n",
    "    y_train_pred = xgb_model.predict(X_train)\n",
    "    y_test_pred = xgb_model.predict(X_test)\n",
    "\n",
    "    # смотрим результат\n",
    "    print(target)\n",
    "    evaluation_result(y_train=y_train, y_train_pred=y_train_pred, y_test=y_test, y_test_pred=y_test_pred)\n",
    "        \n",
    "    df_pred = pd.DataFrame()\n",
    "    df_pred[target] = xgb_model.predict(final)\n",
    "    df_pred = df_pred.set_index(final.index)\n",
    "        \n",
    "    return df_pred"
   ]
  },
  {
   "cell_type": "markdown",
   "metadata": {},
   "source": [
    "- Формируем пути до данных"
   ]
  },
  {
   "cell_type": "code",
   "execution_count": 4,
   "metadata": {},
   "outputs": [],
   "source": [
    "PATH_TO_TRAIN = 'course_project_train.csv'\n",
    "PATH_TO_TEST = 'course_project_test.csv'"
   ]
  },
  {
   "cell_type": "markdown",
   "metadata": {},
   "source": [
    "## 2. Анализ датасетов\n",
    "\n",
    "##### Функции для анализа"
   ]
  },
  {
   "cell_type": "code",
   "execution_count": 5,
   "metadata": {},
   "outputs": [],
   "source": [
    "def missing_data(df: pd.DataFrame) -> pd.Series:\n",
    "    \"\"\"get dataframe and calculate emissions in its data in percentage\"\"\"\n",
    "    \n",
    "    featur_counts = df.count()\n",
    "    object_counts = df.shape[0]\n",
    "    \n",
    "    calc_procent = (1 - featur_counts/object_counts) * 100\n",
    "    \n",
    "    feature_procent = round(calc_procent, 2)\n",
    "            \n",
    "    result = {i: f'{v}%' for i, v in feature_procent.items() if v != 0}\n",
    "    \n",
    "    return pd.Series(result)"
   ]
  },
  {
   "cell_type": "code",
   "execution_count": 6,
   "metadata": {},
   "outputs": [],
   "source": [
    "def correlation(\n",
    "    df: pd.DataFrame, \n",
    "    target: str\n",
    ") -> (print, plt.plot):\n",
    "    \"\"\"calculates correlation whith target and plots graph\"\"\"\n",
    "    \n",
    "    corr_table = df.corr()\n",
    "    \n",
    "    result = corr_table.drop([target], axis=0) if target != None else corr_table\n",
    "    sort_values = result.sort_values(target, ascending=False)*100 if target != None else result\n",
    "    \n",
    "    coef = round(sort_values[target], 2)\n",
    "    \n",
    "    print(coef)\n",
    "    \n",
    "    plt.figure(figsize=(12,4))\n",
    "\n",
    "    plt.barh(coef.index, coef.values)\n",
    "\n",
    "    plt.title(f'Correlation with {target}', fontsize=16)\n",
    "    plt.xlabel('percent', fontsize=14)\n",
    "    \n",
    "    plt.grid()"
   ]
  },
  {
   "cell_type": "code",
   "execution_count": 7,
   "metadata": {},
   "outputs": [],
   "source": [
    "def emission(\n",
    "    series: pd.Series, \n",
    "    val: int = None\n",
    ") -> print:\n",
    "    \"\"\"\n",
    "    get series and shop emissions in it, \n",
    "    if val then can calculate emissions and is percent\n",
    "    \"\"\"\n",
    "    print(\n",
    "        f'min = {series.min()}\\n'\n",
    "        f'max = {series.max()}\\n'\n",
    "        f'mean = {series.mean()}'\n",
    "    )\n",
    "    if val != None:\n",
    "        em = series > val\n",
    "\n",
    "        print(\n",
    "            f'Число выбрасов = {em.sum()}\\n'\n",
    "            f'Процент выбрасов = {round(em.sum() / series.shape[0] * 100, 2)}%'\n",
    "        )\n",
    "        \n",
    "    plt.scatter(series.index, series.values)\n",
    "    plt.plot()"
   ]
  },
  {
   "cell_type": "code",
   "execution_count": 8,
   "metadata": {},
   "outputs": [],
   "source": [
    "def chi2_test(df, target, feature, values, alpha=0.05):\n",
    "    \n",
    "    df = df[df[feature].notna()][:1000]\n",
    "\n",
    "    df1 = df[df[feature] == values[0]]\n",
    "    test1 = df1[target].value_counts()\n",
    "\n",
    "    df2 = df[df[feature] == values[1]]\n",
    "    test2 = df2[target].value_counts()\n",
    "    \n",
    "    p = chi2_contingency([test1, test2])[1]\n",
    "    print(f'p = {p}')\n",
    "    \n",
    "    if p <= alpha:\n",
    "        print(f'{values[0]} != {values[1]}, при alpha = {alpha}') \n",
    "    elif p > alpha:\n",
    "        print(f'{values[0]} == {values[1]}, при alpha = {alpha}')"
   ]
  },
  {
   "cell_type": "code",
   "execution_count": 9,
   "metadata": {},
   "outputs": [],
   "source": [
    "def shapiro_test(\n",
    "    feature: pd.Series,\n",
    "    alpha: float = 0.05\n",
    ") -> print:\n",
    "    \n",
    "    result = shapiro(feature[:1000])\n",
    "    \n",
    "    p = result[1]\n",
    "    print(f'p = {p}')\n",
    "    \n",
    "    if p <= alpha:\n",
    "        print(f'не имеет нормального распредение при alpha = {alpha}')\n",
    "    elif p > alpha:\n",
    "        print(f'имеет нормального распредение при alpha = {alpha}')"
   ]
  },
  {
   "cell_type": "code",
   "execution_count": 10,
   "metadata": {},
   "outputs": [],
   "source": [
    "def evaluation_result(y_train, y_train_pred, y_test, y_test_pred):\n",
    "    \n",
    "    r2_train = r2_score(y_train, y_train_pred)\n",
    "    r2_test = r2_score(y_test, y_test_pred)\n",
    "\n",
    "    fig, ax = plt.subplots(nrows=1, ncols=2)\n",
    "    ax1, ax2 = ax\n",
    "\n",
    "    ax1.scatter(y_train, y_train_pred)\n",
    "    ax1.set_title(f'r2_train = {round(r2_train, 3)}')\n",
    "    ax1.set_xlabel('true')\n",
    "    ax1.set_ylabel('pred')\n",
    "    \n",
    "    ax2.scatter(y_test, y_test_pred)\n",
    "    ax2.set_title(f'r2_test = {round(r2_test, 3)}')\n",
    "    ax2.set_xlabel('true')\n",
    "    ax2.set_ylabel('pred')\n",
    "\n",
    "    fig.set_size_inches(12, 4)\n",
    "    plt.subplots_adjust(wspace=0.4, hspace=0.1)\n",
    "    plt.show()"
   ]
  },
  {
   "cell_type": "markdown",
   "metadata": {},
   "source": [
    "##### Описание датасета\n",
    "\n",
    "* **Home Ownership** - домовладение\n",
    "* **Annual Income** - годовой доход\n",
    "* **Years in current job** - количество лет на текущем месте работы\n",
    "* **Tax Liens** - налоговые обременения\n",
    "* **Number of Open Accounts** - количество открытых счетов\n",
    "* **Years of Credit History** - количество лет кредитной истории\n",
    "* **Maximum Open Credit** - наибольший открытый кредит\n",
    "* **Number of Credit Problems** - количество проблем с кредитом\n",
    "* **Months since last delinquent** - количество месяцев с последней просрочки платежа\n",
    "* **Bankruptcies** - банкротства\n",
    "* **Purpose** - цель кредита\n",
    "* **Term** - срок кредита\n",
    "* **Current Loan Amount** - текущая сумма кредита\n",
    "* **Current Credit Balance** - текущий кредитный баланс\n",
    "* **Monthly Debt** - ежемесячный долг\n",
    "* **Credit Score** - кредитный рейтинг\n",
    "* **Credit Default** - факт невыполнения кредитных обязательств (0 - погашен вовремя, 1 - просрочка)"
   ]
  },
  {
   "cell_type": "markdown",
   "metadata": {},
   "source": [
    "##### Xy_df"
   ]
  },
  {
   "cell_type": "code",
   "execution_count": 11,
   "metadata": {
    "scrolled": false
   },
   "outputs": [
    {
     "data": {
      "text/html": [
       "<div>\n",
       "<style scoped>\n",
       "    .dataframe tbody tr th:only-of-type {\n",
       "        vertical-align: middle;\n",
       "    }\n",
       "\n",
       "    .dataframe tbody tr th {\n",
       "        vertical-align: top;\n",
       "    }\n",
       "\n",
       "    .dataframe thead th {\n",
       "        text-align: right;\n",
       "    }\n",
       "</style>\n",
       "<table border=\"1\" class=\"dataframe\">\n",
       "  <thead>\n",
       "    <tr style=\"text-align: right;\">\n",
       "      <th></th>\n",
       "      <th>Home Ownership</th>\n",
       "      <th>Annual Income</th>\n",
       "      <th>Years in current job</th>\n",
       "      <th>Tax Liens</th>\n",
       "      <th>Number of Open Accounts</th>\n",
       "      <th>Years of Credit History</th>\n",
       "      <th>Maximum Open Credit</th>\n",
       "      <th>Number of Credit Problems</th>\n",
       "      <th>Months since last delinquent</th>\n",
       "      <th>Bankruptcies</th>\n",
       "      <th>Purpose</th>\n",
       "      <th>Term</th>\n",
       "      <th>Current Loan Amount</th>\n",
       "      <th>Current Credit Balance</th>\n",
       "      <th>Monthly Debt</th>\n",
       "      <th>Credit Score</th>\n",
       "      <th>Credit Default</th>\n",
       "    </tr>\n",
       "  </thead>\n",
       "  <tbody>\n",
       "    <tr>\n",
       "      <td>0</td>\n",
       "      <td>Own Home</td>\n",
       "      <td>482087.0</td>\n",
       "      <td>NaN</td>\n",
       "      <td>0.0</td>\n",
       "      <td>11.0</td>\n",
       "      <td>26.3</td>\n",
       "      <td>685960.0</td>\n",
       "      <td>1.0</td>\n",
       "      <td>NaN</td>\n",
       "      <td>1.0</td>\n",
       "      <td>debt consolidation</td>\n",
       "      <td>Short Term</td>\n",
       "      <td>99999999.0</td>\n",
       "      <td>47386.0</td>\n",
       "      <td>7914.0</td>\n",
       "      <td>749.0</td>\n",
       "      <td>0</td>\n",
       "    </tr>\n",
       "    <tr>\n",
       "      <td>1</td>\n",
       "      <td>Own Home</td>\n",
       "      <td>1025487.0</td>\n",
       "      <td>10+ years</td>\n",
       "      <td>0.0</td>\n",
       "      <td>15.0</td>\n",
       "      <td>15.3</td>\n",
       "      <td>1181730.0</td>\n",
       "      <td>0.0</td>\n",
       "      <td>NaN</td>\n",
       "      <td>0.0</td>\n",
       "      <td>debt consolidation</td>\n",
       "      <td>Long Term</td>\n",
       "      <td>264968.0</td>\n",
       "      <td>394972.0</td>\n",
       "      <td>18373.0</td>\n",
       "      <td>737.0</td>\n",
       "      <td>1</td>\n",
       "    </tr>\n",
       "  </tbody>\n",
       "</table>\n",
       "</div>"
      ],
      "text/plain": [
       "  Home Ownership  Annual Income Years in current job  Tax Liens  \\\n",
       "0       Own Home       482087.0                  NaN        0.0   \n",
       "1       Own Home      1025487.0            10+ years        0.0   \n",
       "\n",
       "   Number of Open Accounts  Years of Credit History  Maximum Open Credit  \\\n",
       "0                     11.0                     26.3             685960.0   \n",
       "1                     15.0                     15.3            1181730.0   \n",
       "\n",
       "   Number of Credit Problems  Months since last delinquent  Bankruptcies  \\\n",
       "0                        1.0                           NaN           1.0   \n",
       "1                        0.0                           NaN           0.0   \n",
       "\n",
       "              Purpose        Term  Current Loan Amount  \\\n",
       "0  debt consolidation  Short Term           99999999.0   \n",
       "1  debt consolidation   Long Term             264968.0   \n",
       "\n",
       "   Current Credit Balance  Monthly Debt  Credit Score  Credit Default  \n",
       "0                 47386.0        7914.0         749.0               0  \n",
       "1                394972.0       18373.0         737.0               1  "
      ]
     },
     "execution_count": 11,
     "metadata": {},
     "output_type": "execute_result"
    }
   ],
   "source": [
    "Xy_df = pd.read_csv(PATH_TO_TRAIN)\n",
    "Xy_df.head(2)"
   ]
  },
  {
   "cell_type": "markdown",
   "metadata": {},
   "source": [
    "- Состояние данных"
   ]
  },
  {
   "cell_type": "code",
   "execution_count": 12,
   "metadata": {},
   "outputs": [
    {
     "name": "stdout",
     "output_type": "stream",
     "text": [
      "<class 'pandas.core.frame.DataFrame'>\n",
      "RangeIndex: 7500 entries, 0 to 7499\n",
      "Data columns (total 17 columns):\n",
      "Home Ownership                  7500 non-null object\n",
      "Annual Income                   5943 non-null float64\n",
      "Years in current job            7129 non-null object\n",
      "Tax Liens                       7500 non-null float64\n",
      "Number of Open Accounts         7500 non-null float64\n",
      "Years of Credit History         7500 non-null float64\n",
      "Maximum Open Credit             7500 non-null float64\n",
      "Number of Credit Problems       7500 non-null float64\n",
      "Months since last delinquent    3419 non-null float64\n",
      "Bankruptcies                    7486 non-null float64\n",
      "Purpose                         7500 non-null object\n",
      "Term                            7500 non-null object\n",
      "Current Loan Amount             7500 non-null float64\n",
      "Current Credit Balance          7500 non-null float64\n",
      "Monthly Debt                    7500 non-null float64\n",
      "Credit Score                    5943 non-null float64\n",
      "Credit Default                  7500 non-null int64\n",
      "dtypes: float64(12), int64(1), object(4)\n",
      "memory usage: 996.2+ KB\n"
     ]
    }
   ],
   "source": [
    "Xy_df.info()"
   ]
  },
  {
   "cell_type": "markdown",
   "metadata": {},
   "source": [
    "Видно что в некоторых фичах есть __пропуски__<br>\n",
    "- Просмотрим их целостность в __процентнах__:"
   ]
  },
  {
   "cell_type": "code",
   "execution_count": 13,
   "metadata": {},
   "outputs": [
    {
     "data": {
      "text/plain": [
       "Annual Income                   20.76%\n",
       "Years in current job             4.95%\n",
       "Months since last delinquent    54.41%\n",
       "Bankruptcies                     0.19%\n",
       "Credit Score                    20.76%\n",
       "dtype: object"
      ]
     },
     "execution_count": 13,
     "metadata": {},
     "output_type": "execute_result"
    }
   ],
   "source": [
    "missing_data(df=Xy_df)"
   ]
  },
  {
   "cell_type": "markdown",
   "metadata": {},
   "source": [
    "Видно что в некоторых фичах отсутствует __очень большое__ количество данных, от 5% до 54,5%\n",
    "- Просмотрим сводку"
   ]
  },
  {
   "cell_type": "code",
   "execution_count": 14,
   "metadata": {
    "scrolled": true
   },
   "outputs": [
    {
     "data": {
      "text/html": [
       "<div>\n",
       "<style scoped>\n",
       "    .dataframe tbody tr th:only-of-type {\n",
       "        vertical-align: middle;\n",
       "    }\n",
       "\n",
       "    .dataframe tbody tr th {\n",
       "        vertical-align: top;\n",
       "    }\n",
       "\n",
       "    .dataframe thead th {\n",
       "        text-align: right;\n",
       "    }\n",
       "</style>\n",
       "<table border=\"1\" class=\"dataframe\">\n",
       "  <thead>\n",
       "    <tr style=\"text-align: right;\">\n",
       "      <th></th>\n",
       "      <th>Annual Income</th>\n",
       "      <th>Tax Liens</th>\n",
       "      <th>Number of Open Accounts</th>\n",
       "      <th>Years of Credit History</th>\n",
       "      <th>Maximum Open Credit</th>\n",
       "      <th>Number of Credit Problems</th>\n",
       "      <th>Months since last delinquent</th>\n",
       "      <th>Bankruptcies</th>\n",
       "      <th>Current Loan Amount</th>\n",
       "      <th>Current Credit Balance</th>\n",
       "      <th>Monthly Debt</th>\n",
       "      <th>Credit Score</th>\n",
       "      <th>Credit Default</th>\n",
       "    </tr>\n",
       "  </thead>\n",
       "  <tbody>\n",
       "    <tr>\n",
       "      <td>count</td>\n",
       "      <td>5.943000e+03</td>\n",
       "      <td>7500.000000</td>\n",
       "      <td>7500.000000</td>\n",
       "      <td>7500.000000</td>\n",
       "      <td>7.500000e+03</td>\n",
       "      <td>7500.000000</td>\n",
       "      <td>3419.000000</td>\n",
       "      <td>7486.000000</td>\n",
       "      <td>7.500000e+03</td>\n",
       "      <td>7.500000e+03</td>\n",
       "      <td>7500.000000</td>\n",
       "      <td>5943.000000</td>\n",
       "      <td>7500.000000</td>\n",
       "    </tr>\n",
       "    <tr>\n",
       "      <td>mean</td>\n",
       "      <td>1.366392e+06</td>\n",
       "      <td>0.030133</td>\n",
       "      <td>11.130933</td>\n",
       "      <td>18.317467</td>\n",
       "      <td>9.451537e+05</td>\n",
       "      <td>0.170000</td>\n",
       "      <td>34.692600</td>\n",
       "      <td>0.117152</td>\n",
       "      <td>1.187318e+07</td>\n",
       "      <td>2.898332e+05</td>\n",
       "      <td>18314.454133</td>\n",
       "      <td>1151.087498</td>\n",
       "      <td>0.281733</td>\n",
       "    </tr>\n",
       "    <tr>\n",
       "      <td>std</td>\n",
       "      <td>8.453392e+05</td>\n",
       "      <td>0.271604</td>\n",
       "      <td>4.908924</td>\n",
       "      <td>7.041946</td>\n",
       "      <td>1.602622e+07</td>\n",
       "      <td>0.498598</td>\n",
       "      <td>21.688806</td>\n",
       "      <td>0.347192</td>\n",
       "      <td>3.192612e+07</td>\n",
       "      <td>3.178714e+05</td>\n",
       "      <td>11926.764673</td>\n",
       "      <td>1604.451418</td>\n",
       "      <td>0.449874</td>\n",
       "    </tr>\n",
       "    <tr>\n",
       "      <td>min</td>\n",
       "      <td>1.645970e+05</td>\n",
       "      <td>0.000000</td>\n",
       "      <td>2.000000</td>\n",
       "      <td>4.000000</td>\n",
       "      <td>0.000000e+00</td>\n",
       "      <td>0.000000</td>\n",
       "      <td>0.000000</td>\n",
       "      <td>0.000000</td>\n",
       "      <td>1.124200e+04</td>\n",
       "      <td>0.000000e+00</td>\n",
       "      <td>0.000000</td>\n",
       "      <td>585.000000</td>\n",
       "      <td>0.000000</td>\n",
       "    </tr>\n",
       "    <tr>\n",
       "      <td>25%</td>\n",
       "      <td>8.443410e+05</td>\n",
       "      <td>0.000000</td>\n",
       "      <td>8.000000</td>\n",
       "      <td>13.500000</td>\n",
       "      <td>2.792295e+05</td>\n",
       "      <td>0.000000</td>\n",
       "      <td>16.000000</td>\n",
       "      <td>0.000000</td>\n",
       "      <td>1.801690e+05</td>\n",
       "      <td>1.142565e+05</td>\n",
       "      <td>10067.500000</td>\n",
       "      <td>711.000000</td>\n",
       "      <td>0.000000</td>\n",
       "    </tr>\n",
       "    <tr>\n",
       "      <td>50%</td>\n",
       "      <td>1.168386e+06</td>\n",
       "      <td>0.000000</td>\n",
       "      <td>10.000000</td>\n",
       "      <td>17.000000</td>\n",
       "      <td>4.781590e+05</td>\n",
       "      <td>0.000000</td>\n",
       "      <td>32.000000</td>\n",
       "      <td>0.000000</td>\n",
       "      <td>3.095730e+05</td>\n",
       "      <td>2.093230e+05</td>\n",
       "      <td>16076.500000</td>\n",
       "      <td>731.000000</td>\n",
       "      <td>0.000000</td>\n",
       "    </tr>\n",
       "    <tr>\n",
       "      <td>75%</td>\n",
       "      <td>1.640137e+06</td>\n",
       "      <td>0.000000</td>\n",
       "      <td>14.000000</td>\n",
       "      <td>21.800000</td>\n",
       "      <td>7.935015e+05</td>\n",
       "      <td>0.000000</td>\n",
       "      <td>50.000000</td>\n",
       "      <td>0.000000</td>\n",
       "      <td>5.198820e+05</td>\n",
       "      <td>3.604062e+05</td>\n",
       "      <td>23818.000000</td>\n",
       "      <td>743.000000</td>\n",
       "      <td>1.000000</td>\n",
       "    </tr>\n",
       "    <tr>\n",
       "      <td>max</td>\n",
       "      <td>1.014934e+07</td>\n",
       "      <td>7.000000</td>\n",
       "      <td>43.000000</td>\n",
       "      <td>57.700000</td>\n",
       "      <td>1.304726e+09</td>\n",
       "      <td>7.000000</td>\n",
       "      <td>118.000000</td>\n",
       "      <td>4.000000</td>\n",
       "      <td>1.000000e+08</td>\n",
       "      <td>6.506797e+06</td>\n",
       "      <td>136679.000000</td>\n",
       "      <td>7510.000000</td>\n",
       "      <td>1.000000</td>\n",
       "    </tr>\n",
       "  </tbody>\n",
       "</table>\n",
       "</div>"
      ],
      "text/plain": [
       "       Annual Income    Tax Liens  Number of Open Accounts  \\\n",
       "count   5.943000e+03  7500.000000              7500.000000   \n",
       "mean    1.366392e+06     0.030133                11.130933   \n",
       "std     8.453392e+05     0.271604                 4.908924   \n",
       "min     1.645970e+05     0.000000                 2.000000   \n",
       "25%     8.443410e+05     0.000000                 8.000000   \n",
       "50%     1.168386e+06     0.000000                10.000000   \n",
       "75%     1.640137e+06     0.000000                14.000000   \n",
       "max     1.014934e+07     7.000000                43.000000   \n",
       "\n",
       "       Years of Credit History  Maximum Open Credit  \\\n",
       "count              7500.000000         7.500000e+03   \n",
       "mean                 18.317467         9.451537e+05   \n",
       "std                   7.041946         1.602622e+07   \n",
       "min                   4.000000         0.000000e+00   \n",
       "25%                  13.500000         2.792295e+05   \n",
       "50%                  17.000000         4.781590e+05   \n",
       "75%                  21.800000         7.935015e+05   \n",
       "max                  57.700000         1.304726e+09   \n",
       "\n",
       "       Number of Credit Problems  Months since last delinquent  Bankruptcies  \\\n",
       "count                7500.000000                   3419.000000   7486.000000   \n",
       "mean                    0.170000                     34.692600      0.117152   \n",
       "std                     0.498598                     21.688806      0.347192   \n",
       "min                     0.000000                      0.000000      0.000000   \n",
       "25%                     0.000000                     16.000000      0.000000   \n",
       "50%                     0.000000                     32.000000      0.000000   \n",
       "75%                     0.000000                     50.000000      0.000000   \n",
       "max                     7.000000                    118.000000      4.000000   \n",
       "\n",
       "       Current Loan Amount  Current Credit Balance   Monthly Debt  \\\n",
       "count         7.500000e+03            7.500000e+03    7500.000000   \n",
       "mean          1.187318e+07            2.898332e+05   18314.454133   \n",
       "std           3.192612e+07            3.178714e+05   11926.764673   \n",
       "min           1.124200e+04            0.000000e+00       0.000000   \n",
       "25%           1.801690e+05            1.142565e+05   10067.500000   \n",
       "50%           3.095730e+05            2.093230e+05   16076.500000   \n",
       "75%           5.198820e+05            3.604062e+05   23818.000000   \n",
       "max           1.000000e+08            6.506797e+06  136679.000000   \n",
       "\n",
       "       Credit Score  Credit Default  \n",
       "count   5943.000000     7500.000000  \n",
       "mean    1151.087498        0.281733  \n",
       "std     1604.451418        0.449874  \n",
       "min      585.000000        0.000000  \n",
       "25%      711.000000        0.000000  \n",
       "50%      731.000000        0.000000  \n",
       "75%      743.000000        1.000000  \n",
       "max     7510.000000        1.000000  "
      ]
     },
     "execution_count": 14,
     "metadata": {},
     "output_type": "execute_result"
    }
   ],
   "source": [
    "Xy_df.describe()"
   ]
  },
  {
   "cell_type": "markdown",
   "metadata": {},
   "source": [
    "- Посмотрим __корреляцию__ с таргером"
   ]
  },
  {
   "cell_type": "code",
   "execution_count": 15,
   "metadata": {},
   "outputs": [
    {
     "name": "stdout",
     "output_type": "stream",
     "text": [
      "Credit Score                    44.21\n",
      "Number of Open Accounts          2.89\n",
      "Tax Liens                        2.44\n",
      "Number of Credit Problems        2.01\n",
      "Monthly Debt                     1.85\n",
      "Months since last delinquent     0.26\n",
      "Bankruptcies                     0.16\n",
      "Maximum Open Credit             -1.43\n",
      "Current Credit Balance          -1.95\n",
      "Years of Credit History         -2.06\n",
      "Annual Income                  -10.14\n",
      "Current Loan Amount            -22.65\n",
      "Name: Credit Default, dtype: float64\n"
     ]
    },
    {
     "data": {
      "image/png": "[encoded data removed]",
      "text/plain": [
       "<Figure size 864x288 with 1 Axes>"
      ]
     },
     "metadata": {
      "needs_background": "light"
     },
     "output_type": "display_data"
    }
   ],
   "source": [
    "correlation(df=Xy_df, target='Credit Default')"
   ]
  },
  {
   "cell_type": "markdown",
   "metadata": {},
   "source": [
    "- Наибольшая __прямая зависимость__ с таргером наблюдается у _Credit Score_ = 44%<br>\n",
    "\n",
    "(Скорее всего это __выбросы__, так как высокий __рейтинг__ не может совпадать с __не выполнением__ кредитвых обязательств.)\n",
    "\n",
    "- Наибольшая __обратная зависимость__ наблюдается у _Current Load Amount_ = -23%<br> \n",
    "\n",
    "(Т.е. __высокий доход__ совпадает с __надежностью клиента__ по выполнению кредитных обязательств.)"
   ]
  },
  {
   "cell_type": "markdown",
   "metadata": {},
   "source": [
    "##### X_Final"
   ]
  },
  {
   "cell_type": "code",
   "execution_count": 16,
   "metadata": {
    "scrolled": true
   },
   "outputs": [
    {
     "data": {
      "text/html": [
       "<div>\n",
       "<style scoped>\n",
       "    .dataframe tbody tr th:only-of-type {\n",
       "        vertical-align: middle;\n",
       "    }\n",
       "\n",
       "    .dataframe tbody tr th {\n",
       "        vertical-align: top;\n",
       "    }\n",
       "\n",
       "    .dataframe thead th {\n",
       "        text-align: right;\n",
       "    }\n",
       "</style>\n",
       "<table border=\"1\" class=\"dataframe\">\n",
       "  <thead>\n",
       "    <tr style=\"text-align: right;\">\n",
       "      <th></th>\n",
       "      <th>Home Ownership</th>\n",
       "      <th>Annual Income</th>\n",
       "      <th>Years in current job</th>\n",
       "      <th>Tax Liens</th>\n",
       "      <th>Number of Open Accounts</th>\n",
       "      <th>Years of Credit History</th>\n",
       "      <th>Maximum Open Credit</th>\n",
       "      <th>Number of Credit Problems</th>\n",
       "      <th>Months since last delinquent</th>\n",
       "      <th>Bankruptcies</th>\n",
       "      <th>Purpose</th>\n",
       "      <th>Term</th>\n",
       "      <th>Current Loan Amount</th>\n",
       "      <th>Current Credit Balance</th>\n",
       "      <th>Monthly Debt</th>\n",
       "      <th>Credit Score</th>\n",
       "    </tr>\n",
       "  </thead>\n",
       "  <tbody>\n",
       "    <tr>\n",
       "      <td>0</td>\n",
       "      <td>Rent</td>\n",
       "      <td>NaN</td>\n",
       "      <td>4 years</td>\n",
       "      <td>0.0</td>\n",
       "      <td>9.0</td>\n",
       "      <td>12.5</td>\n",
       "      <td>220968.0</td>\n",
       "      <td>0.0</td>\n",
       "      <td>70.0</td>\n",
       "      <td>0.0</td>\n",
       "      <td>debt consolidation</td>\n",
       "      <td>Short Term</td>\n",
       "      <td>162470.0</td>\n",
       "      <td>105906.0</td>\n",
       "      <td>6813.0</td>\n",
       "      <td>NaN</td>\n",
       "    </tr>\n",
       "    <tr>\n",
       "      <td>1</td>\n",
       "      <td>Rent</td>\n",
       "      <td>231838.0</td>\n",
       "      <td>1 year</td>\n",
       "      <td>0.0</td>\n",
       "      <td>6.0</td>\n",
       "      <td>32.7</td>\n",
       "      <td>55946.0</td>\n",
       "      <td>0.0</td>\n",
       "      <td>8.0</td>\n",
       "      <td>0.0</td>\n",
       "      <td>educational expenses</td>\n",
       "      <td>Short Term</td>\n",
       "      <td>78298.0</td>\n",
       "      <td>46037.0</td>\n",
       "      <td>2318.0</td>\n",
       "      <td>699.0</td>\n",
       "    </tr>\n",
       "  </tbody>\n",
       "</table>\n",
       "</div>"
      ],
      "text/plain": [
       "  Home Ownership  Annual Income Years in current job  Tax Liens  \\\n",
       "0           Rent            NaN              4 years        0.0   \n",
       "1           Rent       231838.0               1 year        0.0   \n",
       "\n",
       "   Number of Open Accounts  Years of Credit History  Maximum Open Credit  \\\n",
       "0                      9.0                     12.5             220968.0   \n",
       "1                      6.0                     32.7              55946.0   \n",
       "\n",
       "   Number of Credit Problems  Months since last delinquent  Bankruptcies  \\\n",
       "0                        0.0                          70.0           0.0   \n",
       "1                        0.0                           8.0           0.0   \n",
       "\n",
       "                Purpose        Term  Current Loan Amount  \\\n",
       "0    debt consolidation  Short Term             162470.0   \n",
       "1  educational expenses  Short Term              78298.0   \n",
       "\n",
       "   Current Credit Balance  Monthly Debt  Credit Score  \n",
       "0                105906.0        6813.0           NaN  \n",
       "1                 46037.0        2318.0         699.0  "
      ]
     },
     "execution_count": 16,
     "metadata": {},
     "output_type": "execute_result"
    }
   ],
   "source": [
    "X_final = pd.read_csv(PATH_TO_TEST)\n",
    "X_final.head(2)"
   ]
  },
  {
   "cell_type": "markdown",
   "metadata": {},
   "source": [
    "- Состояние данных"
   ]
  },
  {
   "cell_type": "code",
   "execution_count": 17,
   "metadata": {},
   "outputs": [
    {
     "name": "stdout",
     "output_type": "stream",
     "text": [
      "<class 'pandas.core.frame.DataFrame'>\n",
      "RangeIndex: 2500 entries, 0 to 2499\n",
      "Data columns (total 16 columns):\n",
      "Home Ownership                  2500 non-null object\n",
      "Annual Income                   1987 non-null float64\n",
      "Years in current job            2414 non-null object\n",
      "Tax Liens                       2500 non-null float64\n",
      "Number of Open Accounts         2500 non-null float64\n",
      "Years of Credit History         2500 non-null float64\n",
      "Maximum Open Credit             2500 non-null float64\n",
      "Number of Credit Problems       2500 non-null float64\n",
      "Months since last delinquent    1142 non-null float64\n",
      "Bankruptcies                    2497 non-null float64\n",
      "Purpose                         2500 non-null object\n",
      "Term                            2500 non-null object\n",
      "Current Loan Amount             2500 non-null float64\n",
      "Current Credit Balance          2500 non-null float64\n",
      "Monthly Debt                    2500 non-null float64\n",
      "Credit Score                    1987 non-null float64\n",
      "dtypes: float64(12), object(4)\n",
      "memory usage: 312.6+ KB\n"
     ]
    }
   ],
   "source": [
    "X_final.info()"
   ]
  },
  {
   "cell_type": "markdown",
   "metadata": {},
   "source": [
    "Видно что в некоторых фичах есть __пропуски__<br>\n",
    "- Просмотрим их __процентное__ соотношение:"
   ]
  },
  {
   "cell_type": "code",
   "execution_count": 18,
   "metadata": {},
   "outputs": [
    {
     "data": {
      "text/plain": [
       "Annual Income                   20.52%\n",
       "Years in current job             3.44%\n",
       "Months since last delinquent    54.32%\n",
       "Bankruptcies                     0.12%\n",
       "Credit Score                    20.52%\n",
       "dtype: object"
      ]
     },
     "execution_count": 18,
     "metadata": {},
     "output_type": "execute_result"
    }
   ],
   "source": [
    "missing_data(df=X_final)"
   ]
  },
  {
   "cell_type": "markdown",
   "metadata": {},
   "source": [
    "Так же как и в train видно, что в некоторых фичах отсутствует __очень большое__ количество данных, от 3,5% до 54%"
   ]
  },
  {
   "cell_type": "code",
   "execution_count": 19,
   "metadata": {},
   "outputs": [],
   "source": [
    "class Preprocessing:\n",
    "    \n",
    "    def __init__(self, df):\n",
    "        \n",
    "        self.df = df\n",
    "        self.columns = ['Annual Income', 'Monthly Debt', 'Current Credit Balance', 'Number of Open Accounts', \n",
    "                        'Years of Credit History', 'Home Ownership - float', 'Tax Liens', 'Maximum Open Credit', \n",
    "                        'Current Loan Amount', 'Number of Credit Problems', 'Credit Score', 'Purpose - float',\n",
    "                        'Months since last delinquent', 'Term - float']\n",
    "        \n",
    "    def mark(self):\n",
    "        \n",
    "        df = self.df\n",
    "        \n",
    "        df.loc[df['Current Loan Amount'] < 2e7, 'CLAexception'] = '0'\n",
    "        df.loc[df['Current Loan Amount'] > 2e7, 'CLAexception'] = '1'\n",
    "        \n",
    "    def missingMSLD(self):\n",
    "        \n",
    "        df = self.df\n",
    "        \n",
    "        df.loc[df['Months since last delinquent'].isna(), 'Months since last delinquent'] =\\\n",
    "            (df['Months since last delinquent'].isna()).sum()\n",
    "        \n",
    "    def missingBankruptcies(self):\n",
    "        \n",
    "        df = self.df\n",
    "        \n",
    "        df.loc[df['Bankruptcies'].isna(), 'Bankruptcies'] = df['Bankruptcies'].quantile(q=0.5)\n",
    "        \n",
    "    def missingYICJ(self):\n",
    "        \n",
    "        df = self.df\n",
    "        \n",
    "        df = df.drop('Years in current job', axis=1, inplace=True)\n",
    "        \n",
    "    def missingAnIn(self):\n",
    "        \n",
    "        df = self.df\n",
    "\n",
    "        target='Annual Income'\n",
    "        \n",
    "        pred = pred_feature(df=df, target=target, columns=self.columns, \n",
    "                                 num_leaves=2, max_depth=1, learning_rate=0.1, n_estimators=3300)\n",
    "        df.loc[df[target].isna(), target] = pred\n",
    "        \n",
    "        self.columns.append(target)\n",
    "        \n",
    "    def missingCrSc(self):\n",
    "        \n",
    "        df = self.df\n",
    "        \n",
    "        target = 'Credit Score'\n",
    "        \n",
    "        pred = pred_feature(df=df, target=target, columns=self.columns, \n",
    "                                 num_leaves=2, max_depth=1, learning_rate=0.1, n_estimators=1500)\n",
    "        df.loc[df[target].isna(), target] = pred\n",
    "        \n",
    "        self.columns.append(target)\n",
    "        \n",
    "    def retype_in_float(self):\n",
    "    \n",
    "        df = self.df\n",
    "        \n",
    "        years = {'10+ years': 10, '2 years': 2, '3 years': 3, '< 1 year': 0, '5 years': 5, \n",
    "                 '1 year': 1, '4 years': 4, '6 years': 6, '7 years': 7, '8 years': 8, '9 years': 9}\n",
    "\n",
    "        df['Years in current job'] = df['Years in current job'].map(years).astype(float)\n",
    "        df['Home Ownership - float'] = df['Home Ownership'].map(df['Home Ownership'].value_counts()).astype(float)\n",
    "        df['Purpose - float'] = df['Purpose'].map(df['Purpose'].value_counts()).astype(float)\n",
    "        df['Term - float'] = df['Term'].map(df['Term'].value_counts()).astype(float)\n",
    "        \n",
    "    def emissionsCS(self):\n",
    "        \n",
    "        df = self.df\n",
    "        \n",
    "        df.loc[df['Credit Score']>999, 'Credit Score'] =\\\n",
    "            df.loc[df['Credit Score']>999, 'Credit Score'] / 10\n",
    "        \n",
    "    def emissionsMOC(self):\n",
    "        \n",
    "        df = self.df\n",
    "        \n",
    "        df.loc[df['Maximum Open Credit'] > 2e8, 'Maximum Open Credit'] = df['Maximum Open Credit'].mean()\n",
    "        \n",
    "    def emissionsCLA(self):\n",
    "        \n",
    "        df = self.df\n",
    "        \n",
    "        target = 'Current Loan Amount'\n",
    "        \n",
    "        df.loc[df[target] > 2e7, target] = np.nan\n",
    "        \n",
    "        pred = pred_feature(df=df, target=target, columns=self.columns, \n",
    "                                 num_leaves=2, max_depth=1, learning_rate=0.1, n_estimators=470)\n",
    "        df.loc[df[target].isna(), target] = pred\n",
    "        \n",
    "        self.columns.append(target)\n",
    "        \n",
    "    def concatHO(self):\n",
    "        \n",
    "        df = self.df\n",
    "        \n",
    "        df.loc[df['Home Ownership'] == 'Have Mortgage', 'Home Ownership'] = 'Home Mortgage'\n",
    "        df.loc[df['Home Ownership'] == 'Rent', 'Home Ownership'] = 'Own Home'\n",
    "        \n",
    "    def pipline(self):\n",
    "        \n",
    "        self.retype_in_float()\n",
    "        self.concatHO()\n",
    "        \n",
    "        self.missingMSLD()\n",
    "        self.missingBankruptcies()\n",
    "        self.missingYICJ()\n",
    "        \n",
    "        self.emissionsCS()\n",
    "        self.emissionsMOC()\n",
    "        \n",
    "        self.missingAnIn()\n",
    "        self.missingCrSc()\n",
    "        \n",
    "        self.markCLA()"
   ]
  },
  {
   "cell_type": "markdown",
   "metadata": {},
   "source": [
    "## 3. Обработка данных\n",
    "\n",
    "##### Класс для предобработки данных"
   ]
  },
  {
   "cell_type": "code",
   "execution_count": 20,
   "metadata": {},
   "outputs": [],
   "source": [
    "xy_prep = Preprocessing(df=Xy_df)"
   ]
  },
  {
   "cell_type": "markdown",
   "metadata": {},
   "source": [
    "### Пометка выбросов и пропусков"
   ]
  },
  {
   "cell_type": "code",
   "execution_count": 21,
   "metadata": {},
   "outputs": [],
   "source": [
    "xy_prep.mark()"
   ]
  },
  {
   "cell_type": "markdown",
   "metadata": {},
   "source": [
    "### Приведение типов\n",
    "\n",
    "- Создадим тип признаков: __Years in current job, Home Ownership, Purpose, Term__ для float"
   ]
  },
  {
   "cell_type": "code",
   "execution_count": 22,
   "metadata": {},
   "outputs": [],
   "source": [
    "xy_prep.retype_in_float()"
   ]
  },
  {
   "cell_type": "markdown",
   "metadata": {},
   "source": [
    "- Просмотрим как изменилась __корреляция__ с таргетом после приведения типов"
   ]
  },
  {
   "cell_type": "code",
   "execution_count": 23,
   "metadata": {},
   "outputs": [
    {
     "name": "stdout",
     "output_type": "stream",
     "text": [
      "Credit Score                    44.21\n",
      "Number of Open Accounts          2.89\n",
      "Tax Liens                        2.44\n",
      "Number of Credit Problems        2.01\n",
      "Monthly Debt                     1.85\n",
      "Months since last delinquent     0.26\n",
      "Bankruptcies                     0.16\n",
      "Years in current job            -0.44\n",
      "Maximum Open Credit             -1.43\n",
      "Purpose - float                 -1.55\n",
      "Current Credit Balance          -1.95\n",
      "Years of Credit History         -2.06\n",
      "Home Ownership - float          -2.44\n",
      "Annual Income                  -10.14\n",
      "Term - float                   -18.15\n",
      "Current Loan Amount            -22.65\n",
      "Name: Credit Default, dtype: float64\n"
     ]
    },
    {
     "data": {
      "image/png": "[encoded data removed]",
      "text/plain": [
       "<Figure size 864x288 with 1 Axes>"
      ]
     },
     "metadata": {
      "needs_background": "light"
     },
     "output_type": "display_data"
    }
   ],
   "source": [
    "correlation(df=Xy_df, target='Credit Default')"
   ]
  },
  {
   "cell_type": "markdown",
   "metadata": {},
   "source": [
    "Видно что проявилась __обратная корреляция__ по таким признакам как:\n",
    "\n",
    "- Количество лет на текущем месте работы = -0.44%\n",
    "- Домовладение = -2.44%\n",
    "- Цель кредита = -1.55%\n",
    "- Срок кредита = -18.15%"
   ]
  },
  {
   "cell_type": "markdown",
   "metadata": {},
   "source": [
    "### Проверка гипотез\n",
    "\n",
    "##### Нормальность\n",
    "\n",
    "- Просмотрим график __Annual Income__"
   ]
  },
  {
   "cell_type": "code",
   "execution_count": 24,
   "metadata": {},
   "outputs": [
    {
     "data": {
      "image/png": "[encoded data removed]",
      "text/plain": [
       "<Figure size 432x288 with 1 Axes>"
      ]
     },
     "metadata": {
      "needs_background": "light"
     },
     "output_type": "display_data"
    }
   ],
   "source": [
    "annInc = Xy_df[Xy_df['Annual Income'].notna()]['Annual Income']\n",
    "\n",
    "sns.distplot(annInc)\n",
    "plt.show()"
   ]
  },
  {
   "cell_type": "markdown",
   "metadata": {},
   "source": [
    "$H_0 -$ __Annual Income__ имеет нормальное распределение <br>\n",
    "$H_1 -$ __Annual Income__ не имеет нормального распределения"
   ]
  },
  {
   "cell_type": "code",
   "execution_count": 25,
   "metadata": {},
   "outputs": [
    {
     "name": "stdout",
     "output_type": "stream",
     "text": [
      "p = 1.8844925930263994e-32\n",
      "не имеет нормального распредение при alpha = 0.5\n"
     ]
    }
   ],
   "source": [
    "shapiro_test(\n",
    "    feature=annInc,\n",
    "    alpha=0.5\n",
    ")"
   ]
  },
  {
   "cell_type": "markdown",
   "metadata": {},
   "source": [
    "$H_0 = H_1,\\ H_0$ опровергнута\n",
    "\n",
    "- Просмотрим график __Monthly Debt__"
   ]
  },
  {
   "cell_type": "code",
   "execution_count": 26,
   "metadata": {},
   "outputs": [
    {
     "data": {
      "image/png": "[encoded data removed]",
      "text/plain": [
       "<Figure size 432x288 with 1 Axes>"
      ]
     },
     "metadata": {
      "needs_background": "light"
     },
     "output_type": "display_data"
    }
   ],
   "source": [
    "mountlyD = Xy_df['Monthly Debt']\n",
    "\n",
    "sns.distplot(mountlyD)\n",
    "plt.show()"
   ]
  },
  {
   "cell_type": "markdown",
   "metadata": {},
   "source": [
    "$H_0 -$ __Monthly Debt__ имеет нормальное распределение<br>\n",
    "$H_1 -$ __Monthly Debt__ не имеет нормального распределения"
   ]
  },
  {
   "cell_type": "code",
   "execution_count": 27,
   "metadata": {},
   "outputs": [
    {
     "name": "stdout",
     "output_type": "stream",
     "text": [
      "p = 6.993885971736841e-25\n",
      "не имеет нормального распредение при alpha = 0.5\n"
     ]
    }
   ],
   "source": [
    "shapiro_test(\n",
    "    feature=mountlyD,\n",
    "    alpha=0.5\n",
    ")"
   ]
  },
  {
   "cell_type": "markdown",
   "metadata": {},
   "source": [
    "$H_0 = H_1,\\ H_0$ опровергнута"
   ]
  },
  {
   "cell_type": "markdown",
   "metadata": {},
   "source": [
    "##### Синхронность\n",
    "\n",
    "- Посмотрим график классов таргета в __Home Ownership__"
   ]
  },
  {
   "cell_type": "code",
   "execution_count": 28,
   "metadata": {},
   "outputs": [
    {
     "data": {
      "image/png": "[encoded data removed]",
      "text/plain": [
       "<Figure size 432x288 with 1 Axes>"
      ]
     },
     "metadata": {
      "needs_background": "light"
     },
     "output_type": "display_data"
    }
   ],
   "source": [
    "sns.countplot(x='Home Ownership', hue='Credit Default', data=Xy_df)\n",
    "plt.show()"
   ]
  },
  {
   "cell_type": "markdown",
   "metadata": {},
   "source": [
    "$H_0 -$ Home Morgage и Rent - cинхронны<br>\n",
    "$H_1 -$ Home Morgage и Rent - не cинхронны"
   ]
  },
  {
   "cell_type": "code",
   "execution_count": 29,
   "metadata": {},
   "outputs": [
    {
     "name": "stdout",
     "output_type": "stream",
     "text": [
      "p = 0.028443444105670197\n",
      "Rent != Home Mortgage, при alpha = 0.5\n"
     ]
    }
   ],
   "source": [
    "values = 'Rent', 'Home Mortgage'\n",
    "\n",
    "chi2_test(\n",
    "    df=Xy_df, \n",
    "    target='Credit Default',\n",
    "    feature='Home Ownership',\n",
    "    values=values,\n",
    "    alpha=0.5\n",
    ")"
   ]
  },
  {
   "cell_type": "markdown",
   "metadata": {},
   "source": [
    "$H_0 = H_1,\\ H_0$ опровергнута\n",
    "\n",
    "$H_0 -$ Home Morgage и Have Mortgage - cинхронны<br>\n",
    "$H_1 -$ Home Morgage и Have Mortgage - не cинхронны"
   ]
  },
  {
   "cell_type": "code",
   "execution_count": 30,
   "metadata": {},
   "outputs": [
    {
     "name": "stdout",
     "output_type": "stream",
     "text": [
      "p = 0.7619804179070149\n",
      "Have Mortgage == Home Mortgage, при alpha = 0.5\n"
     ]
    }
   ],
   "source": [
    "values = 'Have Mortgage', 'Home Mortgage'\n",
    "\n",
    "chi2_test(\n",
    "    df=Xy_df, \n",
    "    target='Credit Default',\n",
    "    feature='Home Ownership',\n",
    "    values=values,\n",
    "    alpha=0.5\n",
    ")"
   ]
  },
  {
   "cell_type": "markdown",
   "metadata": {},
   "source": [
    "$H_0 \\neq H_1,\\ H_0$ не опровергнута - значит эти 2 класса можно объединить\n",
    "\n",
    "$H_0 -$ Own Home и Rent - cинхронны<br>\n",
    "$H_1 -$ Own Home и Rent - не cинхронны"
   ]
  },
  {
   "cell_type": "code",
   "execution_count": 31,
   "metadata": {},
   "outputs": [
    {
     "name": "stdout",
     "output_type": "stream",
     "text": [
      "p = 0.7573724196801643\n",
      "Own Home == Rent, при alpha = 0.5\n"
     ]
    }
   ],
   "source": [
    "values = 'Own Home', 'Rent'\n",
    "\n",
    "chi2_test(\n",
    "    df=Xy_df, \n",
    "    target='Credit Default',\n",
    "    feature='Home Ownership',\n",
    "    values=values,\n",
    "    alpha=0.5\n",
    ")"
   ]
  },
  {
   "cell_type": "markdown",
   "metadata": {},
   "source": [
    "$H_0 \\neq H_1,\\ H_0$ не опровергнута - значит эти 2 класса можно объединить"
   ]
  },
  {
   "cell_type": "markdown",
   "metadata": {},
   "source": [
    "Объединяем классы"
   ]
  },
  {
   "cell_type": "code",
   "execution_count": 32,
   "metadata": {},
   "outputs": [],
   "source": [
    "xy_prep.concatHO()"
   ]
  },
  {
   "cell_type": "markdown",
   "metadata": {},
   "source": [
    "### Первичная обработка пропусков"
   ]
  },
  {
   "cell_type": "code",
   "execution_count": 33,
   "metadata": {},
   "outputs": [
    {
     "data": {
      "text/plain": [
       "Annual Income                   20.76%\n",
       "Years in current job             4.95%\n",
       "Months since last delinquent    54.41%\n",
       "Bankruptcies                     0.19%\n",
       "Credit Score                    20.76%\n",
       "dtype: object"
      ]
     },
     "execution_count": 33,
     "metadata": {},
     "output_type": "execute_result"
    }
   ],
   "source": [
    "missing_data(df=Xy_df)"
   ]
  },
  {
   "cell_type": "markdown",
   "metadata": {},
   "source": [
    "- **Months since last delinquent** - количество месяцев с последней просрочки платежа\n",
    "\n",
    "Судя по большому количеству пропусков в этом признаке можно сделать вывод, что они говорят об __отсутствии просрочек__ по платежу, а значит посчитать количество месяцев не возможно.<br>\n",
    "Тогда заполним пропуски __числом__, которое будет показывать нам - сколько __всего__ таких пропусков."
   ]
  },
  {
   "cell_type": "code",
   "execution_count": 34,
   "metadata": {},
   "outputs": [],
   "source": [
    "xy_prep.missingMSLD()"
   ]
  },
  {
   "cell_type": "markdown",
   "metadata": {},
   "source": [
    "- **Bankruptcies** - банкротство\n",
    "\n",
    "Здесь ставнительно не много пропусков поэтому заполним их медиальным значением"
   ]
  },
  {
   "cell_type": "code",
   "execution_count": 35,
   "metadata": {},
   "outputs": [],
   "source": [
    "xy_prep.missingBankruptcies()"
   ]
  },
  {
   "cell_type": "markdown",
   "metadata": {},
   "source": [
    "- **Years in current job** - лет на текущем месте работы\n",
    "\n",
    "Имеет большое количество пропусков, при этом таблица корреляций показывает малое влияние этого признака на таргет, значит просто удалим этот признак"
   ]
  },
  {
   "cell_type": "code",
   "execution_count": 36,
   "metadata": {},
   "outputs": [],
   "source": [
    "xy_prep.missingYICJ()"
   ]
  },
  {
   "cell_type": "markdown",
   "metadata": {},
   "source": [
    "### Первичная обработка выбросов\n",
    "\n",
    "- **Credit Score** - кредитный рейтинг"
   ]
  },
  {
   "cell_type": "code",
   "execution_count": 37,
   "metadata": {},
   "outputs": [
    {
     "name": "stdout",
     "output_type": "stream",
     "text": [
      "min = 585.0\n",
      "max = 7510.0\n",
      "mean = 1151.0874978966851\n",
      "Число выбрасов = 400\n",
      "Процент выбрасов = 5.33%\n"
     ]
    },
    {
     "data": {
      "image/png": "[encoded data removed]",
      "text/plain": [
       "<Figure size 432x288 with 1 Axes>"
      ]
     },
     "metadata": {
      "needs_background": "light"
     },
     "output_type": "display_data"
    }
   ],
   "source": [
    "emission(\n",
    "    series=Xy_df['Credit Score'], \n",
    "    val=999,\n",
    ")"
   ]
  },
  {
   "cell_type": "markdown",
   "metadata": {},
   "source": [
    "Заня, что __максимальный__ кредитный рейтинг = 999, поделим выбросы на 10"
   ]
  },
  {
   "cell_type": "code",
   "execution_count": 38,
   "metadata": {},
   "outputs": [],
   "source": [
    "xy_prep.emissionsCS()"
   ]
  },
  {
   "cell_type": "markdown",
   "metadata": {},
   "source": [
    "- **Maximum Open Credit** - максимальная сумма кредита"
   ]
  },
  {
   "cell_type": "code",
   "execution_count": 39,
   "metadata": {},
   "outputs": [
    {
     "name": "stdout",
     "output_type": "stream",
     "text": [
      "min = 0.0\n",
      "max = 1304726170.0\n",
      "mean = 945153.7274666667\n",
      "Число выбрасов = 3\n",
      "Процент выбрасов = 0.04%\n"
     ]
    },
    {
     "data": {
      "image/png": "[encoded data removed]",
      "text/plain": [
       "<Figure size 432x288 with 1 Axes>"
      ]
     },
     "metadata": {
      "needs_background": "light"
     },
     "output_type": "display_data"
    }
   ],
   "source": [
    "emission(\n",
    "    series=Xy_df['Maximum Open Credit'],\n",
    "    val=2e8\n",
    ")"
   ]
  },
  {
   "cell_type": "markdown",
   "metadata": {},
   "source": [
    "Наблюдается 3 выброса, приведем их к __среднему__ значению"
   ]
  },
  {
   "cell_type": "code",
   "execution_count": 40,
   "metadata": {},
   "outputs": [],
   "source": [
    "xy_prep.emissionsMOC()"
   ]
  },
  {
   "cell_type": "markdown",
   "metadata": {},
   "source": [
    "### Вторичная обработка пропусков"
   ]
  },
  {
   "cell_type": "markdown",
   "metadata": {},
   "source": [
    "- **Annual Income** - годовой доход\n",
    "\n",
    "Восстановим данные при помощи LightGBM"
   ]
  },
  {
   "cell_type": "code",
   "execution_count": 41,
   "metadata": {},
   "outputs": [
    {
     "name": "stdout",
     "output_type": "stream",
     "text": [
      "Annual Income\n"
     ]
    },
    {
     "data": {
      "image/png": "[encoded data removed]",
      "text/plain": [
       "<Figure size 864x288 with 2 Axes>"
      ]
     },
     "metadata": {
      "needs_background": "light"
     },
     "output_type": "display_data"
    }
   ],
   "source": [
    "xy_prep.missingAnIn()"
   ]
  },
  {
   "cell_type": "markdown",
   "metadata": {},
   "source": [
    "- **Credit Score** - кредитный рейтинг"
   ]
  },
  {
   "cell_type": "code",
   "execution_count": 42,
   "metadata": {},
   "outputs": [
    {
     "name": "stdout",
     "output_type": "stream",
     "text": [
      "Credit Score\n"
     ]
    },
    {
     "data": {
      "image/png": "[encoded data removed]",
      "text/plain": [
       "<Figure size 864x288 with 2 Axes>"
      ]
     },
     "metadata": {
      "needs_background": "light"
     },
     "output_type": "display_data"
    }
   ],
   "source": [
    "xy_prep.missingCrSc()"
   ]
  },
  {
   "cell_type": "markdown",
   "metadata": {},
   "source": [
    "### Вторичная обработка выбрасов"
   ]
  },
  {
   "cell_type": "markdown",
   "metadata": {},
   "source": [
    "- **Current Loan Amount** - текущая сумма кредита"
   ]
  },
  {
   "cell_type": "code",
   "execution_count": 43,
   "metadata": {},
   "outputs": [
    {
     "name": "stdout",
     "output_type": "stream",
     "text": [
      "min = 11242.0\n",
      "max = 99999999.0\n",
      "mean = 11873177.445066666\n",
      "Число выбрасов = 870\n",
      "Процент выбрасов = 11.6%\n"
     ]
    },
    {
     "data": {
      "image/png": "[encoded data removed]",
      "text/plain": [
       "<Figure size 432x288 with 1 Axes>"
      ]
     },
     "metadata": {
      "needs_background": "light"
     },
     "output_type": "display_data"
    }
   ],
   "source": [
    "emission(\n",
    "    series=Xy_df['Current Loan Amount'],\n",
    "    val=2e7,\n",
    ")"
   ]
  },
  {
   "cell_type": "markdown",
   "metadata": {},
   "source": [
    "Обработаем выбросы при помощи LightGBM"
   ]
  },
  {
   "cell_type": "code",
   "execution_count": 44,
   "metadata": {},
   "outputs": [
    {
     "name": "stdout",
     "output_type": "stream",
     "text": [
      "Current Loan Amount\n"
     ]
    },
    {
     "data": {
      "image/png": "[encoded data removed]",
      "text/plain": [
       "<Figure size 864x288 with 2 Axes>"
      ]
     },
     "metadata": {
      "needs_background": "light"
     },
     "output_type": "display_data"
    }
   ],
   "source": [
    "xy_prep.emissionsCLA()"
   ]
  },
  {
   "cell_type": "markdown",
   "metadata": {},
   "source": [
    "### Результаты предобработки\n",
    "\n",
    "Просмотрим как изменилась __корреляция__ с таргетом после обработки данных"
   ]
  },
  {
   "cell_type": "code",
   "execution_count": 45,
   "metadata": {
    "scrolled": false
   },
   "outputs": [
    {
     "name": "stdout",
     "output_type": "stream",
     "text": [
      "Current Loan Amount              6.58\n",
      "Number of Open Accounts          2.89\n",
      "Tax Liens                        2.44\n",
      "Number of Credit Problems        2.01\n",
      "Monthly Debt                     1.85\n",
      "Bankruptcies                     0.16\n",
      "Months since last delinquent    -1.17\n",
      "Purpose - float                 -1.55\n",
      "Current Credit Balance          -1.95\n",
      "Years of Credit History         -2.06\n",
      "Home Ownership - float          -2.44\n",
      "Maximum Open Credit             -5.23\n",
      "Annual Income                   -8.20\n",
      "Term - float                   -18.15\n",
      "Credit Score                   -21.67\n",
      "Name: Credit Default, dtype: float64\n"
     ]
    },
    {
     "data": {
      "image/png": "[encoded data removed]",
      "text/plain": [
       "<Figure size 864x288 with 1 Axes>"
      ]
     },
     "metadata": {
      "needs_background": "light"
     },
     "output_type": "display_data"
    }
   ],
   "source": [
    "correlation(df=Xy_df, target='Credit Default')"
   ]
  }
 ],
 "metadata": {
  "kernelspec": {
   "display_name": "Python 3",
   "language": "python",
   "name": "python3"
  },
  "language_info": {
   "codemirror_mode": {
    "name": "ipython",
    "version": 3
   },
   "file_extension": ".py",
   "mimetype": "text/x-python",
   "name": "python",
   "nbconvert_exporter": "python",
   "pygments_lexer": "ipython3",
   "version": "3.7.4"
  }
 },
 "nbformat": 4,
 "nbformat_minor": 4
}
